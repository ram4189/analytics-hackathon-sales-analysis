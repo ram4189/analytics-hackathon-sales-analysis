{
 "cells": [
  {
   "cell_type": "code",
   "execution_count": 1,
   "id": "570d402a",
   "metadata": {},
   "outputs": [],
   "source": [
    "import pandas as pd, numpy as np, matplotlib.pyplot as plt, os"
   ]
  },
  {
   "cell_type": "code",
   "execution_count": null,
   "id": "9bf65292",
   "metadata": {},
   "outputs": [],
   "source": []
  },
  {
   "cell_type": "code",
   "execution_count": 302,
   "id": "5f5d5fbf",
   "metadata": {},
   "outputs": [
    {
     "data": {
      "text/html": [
       "<div>\n",
       "<style scoped>\n",
       "    .dataframe tbody tr th:only-of-type {\n",
       "        vertical-align: middle;\n",
       "    }\n",
       "\n",
       "    .dataframe tbody tr th {\n",
       "        vertical-align: top;\n",
       "    }\n",
       "\n",
       "    .dataframe thead th {\n",
       "        text-align: right;\n",
       "    }\n",
       "</style>\n",
       "<table border=\"1\" class=\"dataframe\">\n",
       "  <thead>\n",
       "    <tr style=\"text-align: right;\">\n",
       "      <th></th>\n",
       "      <th>DESCRIPTION</th>\n",
       "      <th>household_key</th>\n",
       "      <th>CAMPAIGN</th>\n",
       "    </tr>\n",
       "  </thead>\n",
       "  <tbody>\n",
       "    <tr>\n",
       "      <th>0</th>\n",
       "      <td>TypeA</td>\n",
       "      <td>17</td>\n",
       "      <td>26</td>\n",
       "    </tr>\n",
       "    <tr>\n",
       "      <th>1</th>\n",
       "      <td>TypeA</td>\n",
       "      <td>27</td>\n",
       "      <td>26</td>\n",
       "    </tr>\n",
       "  </tbody>\n",
       "</table>\n",
       "</div>"
      ],
      "text/plain": [
       "  DESCRIPTION  household_key  CAMPAIGN\n",
       "0       TypeA             17        26\n",
       "1       TypeA             27        26"
      ]
     },
     "execution_count": 302,
     "metadata": {},
     "output_type": "execute_result"
    }
   ],
   "source": [
    "campaign_df.head(2)"
   ]
  },
  {
   "cell_type": "code",
   "execution_count": 303,
   "id": "8a069961",
   "metadata": {},
   "outputs": [
    {
     "data": {
      "text/html": [
       "<div>\n",
       "<style scoped>\n",
       "    .dataframe tbody tr th:only-of-type {\n",
       "        vertical-align: middle;\n",
       "    }\n",
       "\n",
       "    .dataframe tbody tr th {\n",
       "        vertical-align: top;\n",
       "    }\n",
       "\n",
       "    .dataframe thead th {\n",
       "        text-align: right;\n",
       "    }\n",
       "</style>\n",
       "<table border=\"1\" class=\"dataframe\">\n",
       "  <thead>\n",
       "    <tr style=\"text-align: right;\">\n",
       "      <th></th>\n",
       "      <th>household_key</th>\n",
       "      <th>DAY</th>\n",
       "      <th>COUPON_UPC</th>\n",
       "      <th>CAMPAIGN</th>\n",
       "    </tr>\n",
       "  </thead>\n",
       "  <tbody>\n",
       "    <tr>\n",
       "      <th>0</th>\n",
       "      <td>1</td>\n",
       "      <td>421</td>\n",
       "      <td>10000085364</td>\n",
       "      <td>8</td>\n",
       "    </tr>\n",
       "    <tr>\n",
       "      <th>1</th>\n",
       "      <td>1</td>\n",
       "      <td>421</td>\n",
       "      <td>51700010076</td>\n",
       "      <td>8</td>\n",
       "    </tr>\n",
       "  </tbody>\n",
       "</table>\n",
       "</div>"
      ],
      "text/plain": [
       "   household_key  DAY   COUPON_UPC  CAMPAIGN\n",
       "0              1  421  10000085364         8\n",
       "1              1  421  51700010076         8"
      ]
     },
     "execution_count": 303,
     "metadata": {},
     "output_type": "execute_result"
    }
   ],
   "source": [
    "coupon_redempt_df.head(2)"
   ]
  },
  {
   "cell_type": "code",
   "execution_count": 304,
   "id": "b9864a81",
   "metadata": {},
   "outputs": [
    {
     "data": {
      "text/html": [
       "<div>\n",
       "<style scoped>\n",
       "    .dataframe tbody tr th:only-of-type {\n",
       "        vertical-align: middle;\n",
       "    }\n",
       "\n",
       "    .dataframe tbody tr th {\n",
       "        vertical-align: top;\n",
       "    }\n",
       "\n",
       "    .dataframe thead th {\n",
       "        text-align: right;\n",
       "    }\n",
       "</style>\n",
       "<table border=\"1\" class=\"dataframe\">\n",
       "  <thead>\n",
       "    <tr style=\"text-align: right;\">\n",
       "      <th></th>\n",
       "      <th>AGE_DESC</th>\n",
       "      <th>MARITAL_STATUS_CODE</th>\n",
       "      <th>INCOME_DESC</th>\n",
       "      <th>HOMEOWNER_DESC</th>\n",
       "      <th>HH_COMP_DESC</th>\n",
       "      <th>HOUSEHOLD_SIZE_DESC</th>\n",
       "      <th>KID_CATEGORY_DESC</th>\n",
       "      <th>household_key</th>\n",
       "    </tr>\n",
       "  </thead>\n",
       "  <tbody>\n",
       "    <tr>\n",
       "      <th>0</th>\n",
       "      <td>65+</td>\n",
       "      <td>A</td>\n",
       "      <td>35-49K</td>\n",
       "      <td>Homeowner</td>\n",
       "      <td>2 Adults No Kids</td>\n",
       "      <td>2</td>\n",
       "      <td>None/Unknown</td>\n",
       "      <td>1</td>\n",
       "    </tr>\n",
       "    <tr>\n",
       "      <th>1</th>\n",
       "      <td>45-54</td>\n",
       "      <td>A</td>\n",
       "      <td>15-24K</td>\n",
       "      <td>Homeowner</td>\n",
       "      <td>Unknown</td>\n",
       "      <td>1</td>\n",
       "      <td>None/Unknown</td>\n",
       "      <td>3</td>\n",
       "    </tr>\n",
       "  </tbody>\n",
       "</table>\n",
       "</div>"
      ],
      "text/plain": [
       "  AGE_DESC MARITAL_STATUS_CODE INCOME_DESC HOMEOWNER_DESC      HH_COMP_DESC  \\\n",
       "0      65+                   A      35-49K      Homeowner  2 Adults No Kids   \n",
       "1    45-54                   A      15-24K      Homeowner           Unknown   \n",
       "\n",
       "  HOUSEHOLD_SIZE_DESC KID_CATEGORY_DESC  household_key  \n",
       "0                   2      None/Unknown              1  \n",
       "1                   1      None/Unknown              3  "
      ]
     },
     "execution_count": 304,
     "metadata": {},
     "output_type": "execute_result"
    }
   ],
   "source": [
    "demographic_df.head(2)"
   ]
  },
  {
   "cell_type": "code",
   "execution_count": 306,
   "id": "77b05672",
   "metadata": {},
   "outputs": [
    {
     "data": {
      "text/html": [
       "<div>\n",
       "<style scoped>\n",
       "    .dataframe tbody tr th:only-of-type {\n",
       "        vertical-align: middle;\n",
       "    }\n",
       "\n",
       "    .dataframe tbody tr th {\n",
       "        vertical-align: top;\n",
       "    }\n",
       "\n",
       "    .dataframe thead th {\n",
       "        text-align: right;\n",
       "    }\n",
       "</style>\n",
       "<table border=\"1\" class=\"dataframe\">\n",
       "  <thead>\n",
       "    <tr style=\"text-align: right;\">\n",
       "      <th></th>\n",
       "      <th>household_key</th>\n",
       "      <th>BASKET_ID</th>\n",
       "      <th>DAY</th>\n",
       "      <th>PRODUCT_ID</th>\n",
       "      <th>QUANTITY</th>\n",
       "      <th>SALES_VALUE</th>\n",
       "      <th>STORE_ID</th>\n",
       "      <th>RETAIL_DISC</th>\n",
       "      <th>TRANS_TIME</th>\n",
       "      <th>WEEK_NO</th>\n",
       "      <th>COUPON_DISC</th>\n",
       "      <th>COUPON_MATCH_DISC</th>\n",
       "      <th>DEPARTMENT</th>\n",
       "    </tr>\n",
       "  </thead>\n",
       "  <tbody>\n",
       "    <tr>\n",
       "      <th>0</th>\n",
       "      <td>2375</td>\n",
       "      <td>26984851472</td>\n",
       "      <td>1</td>\n",
       "      <td>1004906</td>\n",
       "      <td>1</td>\n",
       "      <td>1.39</td>\n",
       "      <td>364</td>\n",
       "      <td>-0.6</td>\n",
       "      <td>1631</td>\n",
       "      <td>1</td>\n",
       "      <td>0.0</td>\n",
       "      <td>0.0</td>\n",
       "      <td>PRODUCE</td>\n",
       "    </tr>\n",
       "    <tr>\n",
       "      <th>1</th>\n",
       "      <td>2375</td>\n",
       "      <td>26984851472</td>\n",
       "      <td>1</td>\n",
       "      <td>1033142</td>\n",
       "      <td>1</td>\n",
       "      <td>0.82</td>\n",
       "      <td>364</td>\n",
       "      <td>0.0</td>\n",
       "      <td>1631</td>\n",
       "      <td>1</td>\n",
       "      <td>0.0</td>\n",
       "      <td>0.0</td>\n",
       "      <td>PRODUCE</td>\n",
       "    </tr>\n",
       "  </tbody>\n",
       "</table>\n",
       "</div>"
      ],
      "text/plain": [
       "   household_key    BASKET_ID  DAY  PRODUCT_ID  QUANTITY  SALES_VALUE  \\\n",
       "0           2375  26984851472    1     1004906         1         1.39   \n",
       "1           2375  26984851472    1     1033142         1         0.82   \n",
       "\n",
       "   STORE_ID  RETAIL_DISC  TRANS_TIME  WEEK_NO  COUPON_DISC  COUPON_MATCH_DISC  \\\n",
       "0       364         -0.6        1631        1          0.0                0.0   \n",
       "1       364          0.0        1631        1          0.0                0.0   \n",
       "\n",
       "  DEPARTMENT  \n",
       "0    PRODUCE  \n",
       "1    PRODUCE  "
      ]
     },
     "execution_count": 306,
     "metadata": {},
     "output_type": "execute_result"
    }
   ],
   "source": [
    "transaction_train_df.head(2)"
   ]
  },
  {
   "cell_type": "code",
   "execution_count": null,
   "id": "73001395",
   "metadata": {},
   "outputs": [],
   "source": []
  },
  {
   "cell_type": "code",
   "execution_count": 2,
   "id": "d21b4213",
   "metadata": {},
   "outputs": [],
   "source": [
    "campaign_df = pd.read_csv('campaign_table.csv')\n",
    "coupon_redempt_df = pd.read_csv('coupon_redempt.csv')\n",
    "demographic_df = pd.read_csv('Demographic.csv')\n",
    "transaction_test_df = pd.read_csv('transaction_test.csv')\n",
    "transaction_train_df = pd.read_csv('transaction_train.csv') "
   ]
  },
  {
   "cell_type": "code",
   "execution_count": null,
   "id": "b57586e5",
   "metadata": {},
   "outputs": [],
   "source": []
  },
  {
   "cell_type": "markdown",
   "id": "5cbbf419",
   "metadata": {},
   "source": [
    "# Transactional data preparation"
   ]
  },
  {
   "cell_type": "code",
   "execution_count": 3,
   "id": "009be915",
   "metadata": {},
   "outputs": [],
   "source": [
    "## MONTH\n",
    "\n",
    "month_days = [31,28, 31, 30, 31, 30, 31, 31, 30, 31, 30, 31, 31,28, 31, 30, 31, 30, 31, 31, 30, 31, 30, 31]\n",
    "i=1\n",
    "s=0\n",
    "days=[]\n",
    "m_days={}\n",
    "for ix, d in enumerate(month_days):\n",
    "    s+=d\n",
    "    while i<=s:\n",
    "        days.append(i)\n",
    "        m_days[i]=ix+1\n",
    "        i+=1"
   ]
  },
  {
   "cell_type": "code",
   "execution_count": 4,
   "id": "ef4da96a",
   "metadata": {},
   "outputs": [],
   "source": [
    "# CREATE QUARTER\n",
    "\n",
    "months=list(range(1,25))\n",
    "s=[months[i:i+3] for i in range(0, 24,3)]\n",
    "month_quarter={}\n",
    "for ix, i in enumerate(s):\n",
    "    for j in i:\n",
    "        month_quarter[j]=ix+1\n"
   ]
  },
  {
   "cell_type": "code",
   "execution_count": null,
   "id": "f3245942",
   "metadata": {},
   "outputs": [],
   "source": []
  },
  {
   "cell_type": "markdown",
   "id": "29be3d08",
   "metadata": {},
   "source": [
    "# DROP DUPLICATES"
   ]
  },
  {
   "cell_type": "code",
   "execution_count": 5,
   "id": "08223a15",
   "metadata": {},
   "outputs": [
    {
     "data": {
      "text/plain": [
       "False"
      ]
     },
     "execution_count": 5,
     "metadata": {},
     "output_type": "execute_result"
    }
   ],
   "source": [
    "demographic_df.duplicated('household_key').any()"
   ]
  },
  {
   "cell_type": "code",
   "execution_count": 6,
   "id": "6b1fd533",
   "metadata": {},
   "outputs": [
    {
     "data": {
      "text/plain": [
       "False"
      ]
     },
     "execution_count": 6,
     "metadata": {},
     "output_type": "execute_result"
    }
   ],
   "source": [
    "coupon_redempt_df.duplicated(['household_key','DAY','COUPON_UPC','CAMPAIGN']).any()"
   ]
  },
  {
   "cell_type": "code",
   "execution_count": 7,
   "id": "f698a0e5",
   "metadata": {},
   "outputs": [
    {
     "data": {
      "text/plain": [
       "False"
      ]
     },
     "execution_count": 7,
     "metadata": {},
     "output_type": "execute_result"
    }
   ],
   "source": [
    "campaign_df.duplicated(['DESCRIPTION','household_key','CAMPAIGN']).any()"
   ]
  },
  {
   "cell_type": "code",
   "execution_count": 8,
   "id": "ce35f735",
   "metadata": {},
   "outputs": [
    {
     "data": {
      "text/plain": [
       "False"
      ]
     },
     "execution_count": 8,
     "metadata": {},
     "output_type": "execute_result"
    }
   ],
   "source": [
    "transaction_train_df.duplicated(['household_key', 'BASKET_ID', 'PRODUCT_ID', 'STORE_ID', 'DEPARTMENT'] ).any()"
   ]
  },
  {
   "cell_type": "code",
   "execution_count": 9,
   "id": "2886b2bd",
   "metadata": {},
   "outputs": [
    {
     "data": {
      "text/plain": [
       "False"
      ]
     },
     "execution_count": 9,
     "metadata": {},
     "output_type": "execute_result"
    }
   ],
   "source": [
    "transaction_test_df.duplicated(['household_key', 'BASKET_ID', 'PRODUCT_ID', 'STORE_ID', 'DEPARTMENT'] ).any()"
   ]
  },
  {
   "cell_type": "code",
   "execution_count": null,
   "id": "8482f711",
   "metadata": {},
   "outputs": [],
   "source": []
  },
  {
   "cell_type": "code",
   "execution_count": 10,
   "id": "edf92eb4",
   "metadata": {},
   "outputs": [
    {
     "data": {
      "text/plain": [
       "False"
      ]
     },
     "execution_count": 10,
     "metadata": {},
     "output_type": "execute_result"
    }
   ],
   "source": [
    "demographic_df['household_key'].duplicated().any()"
   ]
  },
  {
   "cell_type": "code",
   "execution_count": null,
   "id": "f15d962a",
   "metadata": {},
   "outputs": [],
   "source": []
  },
  {
   "cell_type": "markdown",
   "id": "e9515d5f",
   "metadata": {},
   "source": [
    "# BASIC DOMAIN CHECKS "
   ]
  },
  {
   "cell_type": "code",
   "execution_count": 12,
   "id": "965cbd9d",
   "metadata": {},
   "outputs": [
    {
     "data": {
      "text/html": [
       "<div>\n",
       "<style scoped>\n",
       "    .dataframe tbody tr th:only-of-type {\n",
       "        vertical-align: middle;\n",
       "    }\n",
       "\n",
       "    .dataframe tbody tr th {\n",
       "        vertical-align: top;\n",
       "    }\n",
       "\n",
       "    .dataframe thead th {\n",
       "        text-align: right;\n",
       "    }\n",
       "</style>\n",
       "<table border=\"1\" class=\"dataframe\">\n",
       "  <thead>\n",
       "    <tr style=\"text-align: right;\">\n",
       "      <th></th>\n",
       "      <th>household_key</th>\n",
       "      <th>BASKET_ID</th>\n",
       "      <th>DAY</th>\n",
       "      <th>PRODUCT_ID</th>\n",
       "      <th>QUANTITY</th>\n",
       "      <th>SALES_VALUE</th>\n",
       "      <th>STORE_ID</th>\n",
       "      <th>RETAIL_DISC</th>\n",
       "      <th>TRANS_TIME</th>\n",
       "      <th>WEEK_NO</th>\n",
       "      <th>COUPON_DISC</th>\n",
       "      <th>COUPON_MATCH_DISC</th>\n",
       "    </tr>\n",
       "  </thead>\n",
       "  <tbody>\n",
       "    <tr>\n",
       "      <th>count</th>\n",
       "      <td>1.783033e+06</td>\n",
       "      <td>1.783033e+06</td>\n",
       "      <td>1.783033e+06</td>\n",
       "      <td>1.783033e+06</td>\n",
       "      <td>1.783033e+06</td>\n",
       "      <td>1.783033e+06</td>\n",
       "      <td>1.783033e+06</td>\n",
       "      <td>1.783033e+06</td>\n",
       "      <td>1.783033e+06</td>\n",
       "      <td>1.783033e+06</td>\n",
       "      <td>1.783033e+06</td>\n",
       "      <td>1.783033e+06</td>\n",
       "    </tr>\n",
       "    <tr>\n",
       "      <th>mean</th>\n",
       "      <td>1.283147e+03</td>\n",
       "      <td>3.398640e+10</td>\n",
       "      <td>3.870594e+02</td>\n",
       "      <td>2.890923e+06</td>\n",
       "      <td>1.019575e+02</td>\n",
       "      <td>3.102665e+00</td>\n",
       "      <td>2.951391e+03</td>\n",
       "      <td>-5.404261e-01</td>\n",
       "      <td>1.561707e+03</td>\n",
       "      <td>5.597532e+01</td>\n",
       "      <td>-1.763832e-02</td>\n",
       "      <td>-3.264309e-03</td>\n",
       "    </tr>\n",
       "    <tr>\n",
       "      <th>std</th>\n",
       "      <td>7.326770e+02</td>\n",
       "      <td>4.705205e+09</td>\n",
       "      <td>1.898001e+02</td>\n",
       "      <td>3.832707e+06</td>\n",
       "      <td>1.173702e+03</td>\n",
       "      <td>4.241652e+00</td>\n",
       "      <td>8.652991e+03</td>\n",
       "      <td>1.266344e+00</td>\n",
       "      <td>4.008090e+02</td>\n",
       "      <td>2.711228e+01</td>\n",
       "      <td>2.225795e-01</td>\n",
       "      <td>4.199812e-02</td>\n",
       "    </tr>\n",
       "    <tr>\n",
       "      <th>min</th>\n",
       "      <td>1.000000e+00</td>\n",
       "      <td>2.698485e+10</td>\n",
       "      <td>1.000000e+00</td>\n",
       "      <td>2.567100e+04</td>\n",
       "      <td>0.000000e+00</td>\n",
       "      <td>0.000000e+00</td>\n",
       "      <td>1.000000e+00</td>\n",
       "      <td>-1.800000e+02</td>\n",
       "      <td>0.000000e+00</td>\n",
       "      <td>1.000000e+00</td>\n",
       "      <td>-5.593000e+01</td>\n",
       "      <td>-7.700000e+00</td>\n",
       "    </tr>\n",
       "    <tr>\n",
       "      <th>25%</th>\n",
       "      <td>6.760000e+02</td>\n",
       "      <td>3.022918e+10</td>\n",
       "      <td>2.270000e+02</td>\n",
       "      <td>9.173840e+05</td>\n",
       "      <td>1.000000e+00</td>\n",
       "      <td>1.290000e+00</td>\n",
       "      <td>3.290000e+02</td>\n",
       "      <td>-6.900000e-01</td>\n",
       "      <td>1.308000e+03</td>\n",
       "      <td>3.300000e+01</td>\n",
       "      <td>0.000000e+00</td>\n",
       "      <td>0.000000e+00</td>\n",
       "    </tr>\n",
       "    <tr>\n",
       "      <th>50%</th>\n",
       "      <td>1.274000e+03</td>\n",
       "      <td>3.275970e+10</td>\n",
       "      <td>3.890000e+02</td>\n",
       "      <td>1.028816e+06</td>\n",
       "      <td>1.000000e+00</td>\n",
       "      <td>2.000000e+00</td>\n",
       "      <td>3.690000e+02</td>\n",
       "      <td>-4.000000e-02</td>\n",
       "      <td>1.613000e+03</td>\n",
       "      <td>5.600000e+01</td>\n",
       "      <td>0.000000e+00</td>\n",
       "      <td>0.000000e+00</td>\n",
       "    </tr>\n",
       "    <tr>\n",
       "      <th>75%</th>\n",
       "      <td>1.944000e+03</td>\n",
       "      <td>4.009766e+10</td>\n",
       "      <td>5.510000e+02</td>\n",
       "      <td>1.133018e+06</td>\n",
       "      <td>1.000000e+00</td>\n",
       "      <td>3.490000e+00</td>\n",
       "      <td>4.210000e+02</td>\n",
       "      <td>0.000000e+00</td>\n",
       "      <td>1.844000e+03</td>\n",
       "      <td>7.900000e+01</td>\n",
       "      <td>0.000000e+00</td>\n",
       "      <td>0.000000e+00</td>\n",
       "    </tr>\n",
       "    <tr>\n",
       "      <th>max</th>\n",
       "      <td>2.500000e+03</td>\n",
       "      <td>4.230536e+10</td>\n",
       "      <td>7.110000e+02</td>\n",
       "      <td>1.831630e+07</td>\n",
       "      <td>8.963800e+04</td>\n",
       "      <td>8.400000e+02</td>\n",
       "      <td>3.428000e+04</td>\n",
       "      <td>2.090000e+00</td>\n",
       "      <td>2.359000e+03</td>\n",
       "      <td>1.020000e+02</td>\n",
       "      <td>0.000000e+00</td>\n",
       "      <td>0.000000e+00</td>\n",
       "    </tr>\n",
       "  </tbody>\n",
       "</table>\n",
       "</div>"
      ],
      "text/plain": [
       "       household_key     BASKET_ID           DAY    PRODUCT_ID      QUANTITY  \\\n",
       "count   1.783033e+06  1.783033e+06  1.783033e+06  1.783033e+06  1.783033e+06   \n",
       "mean    1.283147e+03  3.398640e+10  3.870594e+02  2.890923e+06  1.019575e+02   \n",
       "std     7.326770e+02  4.705205e+09  1.898001e+02  3.832707e+06  1.173702e+03   \n",
       "min     1.000000e+00  2.698485e+10  1.000000e+00  2.567100e+04  0.000000e+00   \n",
       "25%     6.760000e+02  3.022918e+10  2.270000e+02  9.173840e+05  1.000000e+00   \n",
       "50%     1.274000e+03  3.275970e+10  3.890000e+02  1.028816e+06  1.000000e+00   \n",
       "75%     1.944000e+03  4.009766e+10  5.510000e+02  1.133018e+06  1.000000e+00   \n",
       "max     2.500000e+03  4.230536e+10  7.110000e+02  1.831630e+07  8.963800e+04   \n",
       "\n",
       "        SALES_VALUE      STORE_ID   RETAIL_DISC    TRANS_TIME       WEEK_NO  \\\n",
       "count  1.783033e+06  1.783033e+06  1.783033e+06  1.783033e+06  1.783033e+06   \n",
       "mean   3.102665e+00  2.951391e+03 -5.404261e-01  1.561707e+03  5.597532e+01   \n",
       "std    4.241652e+00  8.652991e+03  1.266344e+00  4.008090e+02  2.711228e+01   \n",
       "min    0.000000e+00  1.000000e+00 -1.800000e+02  0.000000e+00  1.000000e+00   \n",
       "25%    1.290000e+00  3.290000e+02 -6.900000e-01  1.308000e+03  3.300000e+01   \n",
       "50%    2.000000e+00  3.690000e+02 -4.000000e-02  1.613000e+03  5.600000e+01   \n",
       "75%    3.490000e+00  4.210000e+02  0.000000e+00  1.844000e+03  7.900000e+01   \n",
       "max    8.400000e+02  3.428000e+04  2.090000e+00  2.359000e+03  1.020000e+02   \n",
       "\n",
       "        COUPON_DISC  COUPON_MATCH_DISC  \n",
       "count  1.783033e+06       1.783033e+06  \n",
       "mean  -1.763832e-02      -3.264309e-03  \n",
       "std    2.225795e-01       4.199812e-02  \n",
       "min   -5.593000e+01      -7.700000e+00  \n",
       "25%    0.000000e+00       0.000000e+00  \n",
       "50%    0.000000e+00       0.000000e+00  \n",
       "75%    0.000000e+00       0.000000e+00  \n",
       "max    0.000000e+00       0.000000e+00  "
      ]
     },
     "execution_count": 12,
     "metadata": {},
     "output_type": "execute_result"
    }
   ],
   "source": [
    "transaction_train_df.describe()"
   ]
  },
  {
   "cell_type": "code",
   "execution_count": 147,
   "id": "66916678",
   "metadata": {},
   "outputs": [
    {
     "data": {
      "text/html": [
       "<div>\n",
       "<style scoped>\n",
       "    .dataframe tbody tr th:only-of-type {\n",
       "        vertical-align: middle;\n",
       "    }\n",
       "\n",
       "    .dataframe tbody tr th {\n",
       "        vertical-align: top;\n",
       "    }\n",
       "\n",
       "    .dataframe thead th {\n",
       "        text-align: right;\n",
       "    }\n",
       "</style>\n",
       "<table border=\"1\" class=\"dataframe\">\n",
       "  <thead>\n",
       "    <tr style=\"text-align: right;\">\n",
       "      <th></th>\n",
       "      <th>household_key</th>\n",
       "      <th>BASKET_ID</th>\n",
       "      <th>DAY</th>\n",
       "      <th>PRODUCT_ID</th>\n",
       "      <th>QUANTITY</th>\n",
       "      <th>SALES_VALUE</th>\n",
       "      <th>STORE_ID</th>\n",
       "      <th>RETAIL_DISC</th>\n",
       "      <th>TRANS_TIME</th>\n",
       "      <th>WEEK_NO</th>\n",
       "      <th>COUPON_DISC</th>\n",
       "      <th>COUPON_MATCH_DISC</th>\n",
       "    </tr>\n",
       "  </thead>\n",
       "  <tbody>\n",
       "    <tr>\n",
       "      <th>count</th>\n",
       "      <td>713927.000000</td>\n",
       "      <td>7.139270e+05</td>\n",
       "      <td>713927.000000</td>\n",
       "      <td>7.139270e+05</td>\n",
       "      <td>713927.000000</td>\n",
       "      <td>713927.000000</td>\n",
       "      <td>713927.000000</td>\n",
       "      <td>713927.000000</td>\n",
       "      <td>713927.000000</td>\n",
       "      <td>713927.000000</td>\n",
       "      <td>713927.000000</td>\n",
       "      <td>713927.000000</td>\n",
       "    </tr>\n",
       "    <tr>\n",
       "      <th>mean</th>\n",
       "      <td>1246.855596</td>\n",
       "      <td>3.304885e+10</td>\n",
       "      <td>353.427762</td>\n",
       "      <td>2.795958e+06</td>\n",
       "      <td>97.049569</td>\n",
       "      <td>3.097203</td>\n",
       "      <td>3420.993865</td>\n",
       "      <td>-0.534655</td>\n",
       "      <td>1561.507056</td>\n",
       "      <td>51.185090</td>\n",
       "      <td>-0.013933</td>\n",
       "      <td>-0.002232</td>\n",
       "    </tr>\n",
       "    <tr>\n",
       "      <th>std</th>\n",
       "      <td>711.750601</td>\n",
       "      <td>4.009099e+09</td>\n",
       "      <td>168.132436</td>\n",
       "      <td>3.687185e+06</td>\n",
       "      <td>1105.823898</td>\n",
       "      <td>4.069763</td>\n",
       "      <td>9310.912751</td>\n",
       "      <td>1.207291</td>\n",
       "      <td>400.492125</td>\n",
       "      <td>24.024884</td>\n",
       "      <td>0.203330</td>\n",
       "      <td>0.034897</td>\n",
       "    </tr>\n",
       "    <tr>\n",
       "      <th>min</th>\n",
       "      <td>2.000000</td>\n",
       "      <td>2.698504e+10</td>\n",
       "      <td>1.000000</td>\n",
       "      <td>2.619000e+04</td>\n",
       "      <td>0.000000</td>\n",
       "      <td>0.000000</td>\n",
       "      <td>12.000000</td>\n",
       "      <td>-130.020000</td>\n",
       "      <td>0.000000</td>\n",
       "      <td>1.000000</td>\n",
       "      <td>-37.930000</td>\n",
       "      <td>-3.500000</td>\n",
       "    </tr>\n",
       "    <tr>\n",
       "      <th>25%</th>\n",
       "      <td>610.000000</td>\n",
       "      <td>3.005396e+10</td>\n",
       "      <td>213.000000</td>\n",
       "      <td>9.173870e+05</td>\n",
       "      <td>1.000000</td>\n",
       "      <td>1.290000</td>\n",
       "      <td>333.000000</td>\n",
       "      <td>-0.690000</td>\n",
       "      <td>1306.000000</td>\n",
       "      <td>31.000000</td>\n",
       "      <td>0.000000</td>\n",
       "      <td>0.000000</td>\n",
       "    </tr>\n",
       "    <tr>\n",
       "      <th>50%</th>\n",
       "      <td>1269.000000</td>\n",
       "      <td>3.220464e+10</td>\n",
       "      <td>356.000000</td>\n",
       "      <td>1.027569e+06</td>\n",
       "      <td>1.000000</td>\n",
       "      <td>2.000000</td>\n",
       "      <td>374.000000</td>\n",
       "      <td>0.000000</td>\n",
       "      <td>1615.000000</td>\n",
       "      <td>52.000000</td>\n",
       "      <td>0.000000</td>\n",
       "      <td>0.000000</td>\n",
       "    </tr>\n",
       "    <tr>\n",
       "      <th>75%</th>\n",
       "      <td>1844.000000</td>\n",
       "      <td>3.457704e+10</td>\n",
       "      <td>498.000000</td>\n",
       "      <td>1.131312e+06</td>\n",
       "      <td>1.000000</td>\n",
       "      <td>3.490000</td>\n",
       "      <td>427.000000</td>\n",
       "      <td>0.000000</td>\n",
       "      <td>1845.000000</td>\n",
       "      <td>72.000000</td>\n",
       "      <td>0.000000</td>\n",
       "      <td>0.000000</td>\n",
       "    </tr>\n",
       "    <tr>\n",
       "      <th>max</th>\n",
       "      <td>2499.000000</td>\n",
       "      <td>4.133837e+10</td>\n",
       "      <td>638.000000</td>\n",
       "      <td>1.738220e+07</td>\n",
       "      <td>48073.000000</td>\n",
       "      <td>631.800000</td>\n",
       "      <td>34280.000000</td>\n",
       "      <td>3.990000</td>\n",
       "      <td>2359.000000</td>\n",
       "      <td>92.000000</td>\n",
       "      <td>0.000000</td>\n",
       "      <td>0.000000</td>\n",
       "    </tr>\n",
       "  </tbody>\n",
       "</table>\n",
       "</div>"
      ],
      "text/plain": [
       "       household_key     BASKET_ID            DAY    PRODUCT_ID  \\\n",
       "count  713927.000000  7.139270e+05  713927.000000  7.139270e+05   \n",
       "mean     1246.855596  3.304885e+10     353.427762  2.795958e+06   \n",
       "std       711.750601  4.009099e+09     168.132436  3.687185e+06   \n",
       "min         2.000000  2.698504e+10       1.000000  2.619000e+04   \n",
       "25%       610.000000  3.005396e+10     213.000000  9.173870e+05   \n",
       "50%      1269.000000  3.220464e+10     356.000000  1.027569e+06   \n",
       "75%      1844.000000  3.457704e+10     498.000000  1.131312e+06   \n",
       "max      2499.000000  4.133837e+10     638.000000  1.738220e+07   \n",
       "\n",
       "            QUANTITY    SALES_VALUE       STORE_ID    RETAIL_DISC  \\\n",
       "count  713927.000000  713927.000000  713927.000000  713927.000000   \n",
       "mean       97.049569       3.097203    3420.993865      -0.534655   \n",
       "std      1105.823898       4.069763    9310.912751       1.207291   \n",
       "min         0.000000       0.000000      12.000000    -130.020000   \n",
       "25%         1.000000       1.290000     333.000000      -0.690000   \n",
       "50%         1.000000       2.000000     374.000000       0.000000   \n",
       "75%         1.000000       3.490000     427.000000       0.000000   \n",
       "max     48073.000000     631.800000   34280.000000       3.990000   \n",
       "\n",
       "          TRANS_TIME        WEEK_NO    COUPON_DISC  COUPON_MATCH_DISC  \n",
       "count  713927.000000  713927.000000  713927.000000      713927.000000  \n",
       "mean     1561.507056      51.185090      -0.013933          -0.002232  \n",
       "std       400.492125      24.024884       0.203330           0.034897  \n",
       "min         0.000000       1.000000     -37.930000          -3.500000  \n",
       "25%      1306.000000      31.000000       0.000000           0.000000  \n",
       "50%      1615.000000      52.000000       0.000000           0.000000  \n",
       "75%      1845.000000      72.000000       0.000000           0.000000  \n",
       "max      2359.000000      92.000000       0.000000           0.000000  "
      ]
     },
     "execution_count": 147,
     "metadata": {},
     "output_type": "execute_result"
    }
   ],
   "source": [
    "transaction_test_df.describe()"
   ]
  },
  {
   "cell_type": "code",
   "execution_count": null,
   "id": "f8d40c63",
   "metadata": {},
   "outputs": [],
   "source": []
  },
  {
   "cell_type": "code",
   "execution_count": null,
   "id": "231ff0a3",
   "metadata": {},
   "outputs": [],
   "source": []
  },
  {
   "cell_type": "markdown",
   "id": "22a1fbf6",
   "metadata": {},
   "source": [
    "<h4> 1. RETAIL_DISC<0 and COUPON_DISC<0 and COUPON_MATCH_DISC<0 </h4>"
   ]
  },
  {
   "cell_type": "code",
   "execution_count": 11,
   "id": "cfe2dab7",
   "metadata": {},
   "outputs": [],
   "source": [
    "transaction_train_df = transaction_train_df[(transaction_train_df['RETAIL_DISC']<=0) & (transaction_train_df['COUPON_DISC']<=0) & (transaction_train_df['COUPON_MATCH_DISC']<=0)]\n",
    "transaction_test_df = transaction_test_df[(transaction_test_df['RETAIL_DISC']<=0) & (transaction_test_df['COUPON_DISC']<=0) & (transaction_test_df['COUPON_MATCH_DISC']<=0)]"
   ]
  },
  {
   "cell_type": "markdown",
   "id": "33c933dd",
   "metadata": {},
   "source": [
    "<h4> 2. SALES_VALUE > RETAIL_DISC+ COUPON_DISC+COUPON_MATCH_DISC </h4>"
   ]
  },
  {
   "cell_type": "code",
   "execution_count": 12,
   "id": "4881c913",
   "metadata": {},
   "outputs": [],
   "source": [
    "transaction_train_df['Total_discount'] = transaction_train_df['RETAIL_DISC'] + transaction_train_df['COUPON_DISC'] + transaction_train_df['COUPON_MATCH_DISC'] \n",
    "transaction_train_df = transaction_train_df[transaction_train_df['SALES_VALUE']>transaction_train_df['Total_discount']]\n",
    "\n",
    "################################\n",
    "transaction_test_df['Total_discount'] = transaction_test_df['RETAIL_DISC'] + transaction_test_df['COUPON_DISC'] + transaction_test_df['COUPON_MATCH_DISC'] \n",
    "transaction_test_df = transaction_test_df[transaction_test_df['SALES_VALUE']>transaction_test_df['Total_discount']]\n"
   ]
  },
  {
   "cell_type": "markdown",
   "id": "83405c4d",
   "metadata": {},
   "source": [
    "<h4> 3. Drop no department </h4>"
   ]
  },
  {
   "cell_type": "code",
   "execution_count": 13,
   "id": "66d38b82",
   "metadata": {},
   "outputs": [],
   "source": [
    "transaction_train_df = transaction_train_df[transaction_train_df['DEPARTMENT']!=' ']\n",
    "###################################\n",
    "transaction_test_df = transaction_test_df[transaction_test_df['DEPARTMENT']!=' ']"
   ]
  },
  {
   "cell_type": "markdown",
   "id": "484cfcc2",
   "metadata": {},
   "source": [
    "<h4> 4. Drop quantitiy=0 sales = 0 </h4>"
   ]
  },
  {
   "cell_type": "code",
   "execution_count": 14,
   "id": "af9bc690",
   "metadata": {},
   "outputs": [],
   "source": [
    "transaction_train_df = transaction_train_df[(transaction_train_df['QUANTITY']>0.0) & (transaction_train_df['SALES_VALUE']>0.0)]\n",
    "#####################################\n",
    "transaction_test_df = transaction_test_df[(transaction_test_df['QUANTITY']>0.0) & (transaction_test_df['SALES_VALUE']>0.0)]"
   ]
  },
  {
   "cell_type": "code",
   "execution_count": null,
   "id": "f24fa46b",
   "metadata": {},
   "outputs": [],
   "source": []
  },
  {
   "cell_type": "code",
   "execution_count": 15,
   "id": "18cc846e",
   "metadata": {},
   "outputs": [],
   "source": [
    "transaction_train_df['MONTH'] = list(map(lambda x:m_days[x], transaction_train_df['DAY']))\n",
    "transaction_train_df['QUARTER'] = list(map(lambda x:month_quarter[x], transaction_train_df['MONTH']))\n",
    "\n",
    "#####################################\n",
    "\n",
    "transaction_test_df['MONTH'] = list(map(lambda x:m_days[x], transaction_test_df['DAY']))\n",
    "transaction_test_df['QUARTER'] = list(map(lambda x:month_quarter[x], transaction_test_df['MONTH']))\n",
    "\n"
   ]
  },
  {
   "cell_type": "code",
   "execution_count": null,
   "id": "02d6a49e",
   "metadata": {},
   "outputs": [],
   "source": []
  },
  {
   "cell_type": "markdown",
   "id": "78083663",
   "metadata": {},
   "source": [
    "# Create new features and drop not required columns"
   ]
  },
  {
   "cell_type": "code",
   "execution_count": 16,
   "id": "92ad85a6",
   "metadata": {},
   "outputs": [],
   "source": [
    "transaction_train_df['SALES_VALUE_AFTER_DISCOUNT'] = transaction_train_df['SALES_VALUE'] - transaction_train_df['Total_discount']\n",
    "transaction_train_df['SAME_ITEM_SALES_VALUE'] = transaction_train_df['QUANTITY']*transaction_train_df['SALES_VALUE_AFTER_DISCOUNT']\n",
    "# transaction_train_df.drop(['TRANS_TIME', 'SALES_VALUE', 'Total_discount','RETAIL_DISC','COUPON_DISC','COUPON_MATCH_DISC', 'QUANTITY', 'SALES_VALUE_AFTER_DISCOUNT'],  axis=1, inplace=True)\n",
    "# transaction_train_weekly_df = transaction_train_df[['household_key','MONTH','SAME_ITEM_SALES_VALUE','DEPARTMENT']]\n",
    "\n",
    "transaction_train_weekly_df = transaction_train_df[['household_key','WEEK_NO','SAME_ITEM_SALES_VALUE','DEPARTMENT']]\n",
    "\n",
    "transaction_train_quarterly_df = transaction_train_df[['household_key','QUARTER','SAME_ITEM_SALES_VALUE','DEPARTMENT']]\n",
    "\n",
    "\n",
    "#####################################\n",
    "\n",
    "\n",
    "transaction_test_df['SALES_VALUE_AFTER_DISCOUNT'] = transaction_test_df['SALES_VALUE'] - transaction_test_df['Total_discount']\n",
    "transaction_test_df['SAME_ITEM_SALES_VALUE'] = transaction_test_df['QUANTITY']*transaction_test_df['SALES_VALUE_AFTER_DISCOUNT']\n",
    "# transaction_test_df.drop(['TRANS_TIME', 'SALES_VALUE', 'Total_discount','RETAIL_DISC','COUPON_DISC','COUPON_MATCH_DISC', 'QUANTITY', 'SALES_VALUE_AFTER_DISCOUNT'],  axis=1, inplace=True)\n",
    "# transaction_test_weekly_df = transaction_test_df[['household_key','MONTH','SAME_ITEM_SALES_VALUE','DEPARTMENT']]\n",
    "\n",
    "transaction_test_weekly_df = transaction_test_df[['household_key','WEEK_NO','SAME_ITEM_SALES_VALUE','DEPARTMENT']]\n",
    "\n",
    "transaction_test_quarterly_df = transaction_test_df[['household_key','QUARTER','SAME_ITEM_SALES_VALUE','DEPARTMENT']]\n"
   ]
  },
  {
   "cell_type": "markdown",
   "id": "618db5d2",
   "metadata": {},
   "source": [
    "# EDA"
   ]
  },
  {
   "cell_type": "code",
   "execution_count": null,
   "id": "6abef49e",
   "metadata": {},
   "outputs": [],
   "source": []
  },
  {
   "cell_type": "code",
   "execution_count": 20,
   "id": "2833571d",
   "metadata": {},
   "outputs": [],
   "source": [
    "hhkeys=sorted(demographic_df['household_key'].unique())\n",
    "\n",
    "\n",
    "more_purchasing_customers=[]\n",
    "less_purchasing_customers=[]\n",
    "\n",
    "for k in hhkeys:\n",
    "    if k in transaction_train_weekly_df.household_key.unique():\n",
    "        df = transaction_train_weekly_df[transaction_train_weekly_df['household_key']==k]\n",
    "        sv = df.groupby('WEEK_NO')['SAME_ITEM_SALES_VALUE'].sum().reset_index()\n",
    "        kendalls_coef = sv.corr(method='kendall')['WEEK_NO']['SAME_ITEM_SALES_VALUE']\n",
    "        if kendalls_coef > 0:\n",
    "            more_purchasing_customers.append(k)\n",
    "        else:\n",
    "            less_purchasing_customers.append(k)   "
   ]
  },
  {
   "cell_type": "code",
   "execution_count": 21,
   "id": "53602bf9",
   "metadata": {},
   "outputs": [],
   "source": [
    "# more purchasing\n",
    "\n",
    "md = dict.fromkeys(transaction_train_df['DEPARTMENT'].unique(),0)\n",
    "\n",
    "for k in more_purchasing_customers:\n",
    "    if k in transaction_train_weekly_df.household_key.unique():\n",
    "        d = transaction_train_weekly_df[transaction_train_weekly_df.household_key==k]['DEPARTMENT'].value_counts().to_dict()\n",
    "        for k in md.keys():\n",
    "            if k in d.keys():\n",
    "                md[k]+=d[k]"
   ]
  },
  {
   "cell_type": "code",
   "execution_count": 22,
   "id": "920bad2d",
   "metadata": {},
   "outputs": [
    {
     "data": {
      "text/plain": [
       "{'GROCERY': 611435,\n",
       " 'DRUG GM': 100392,\n",
       " 'PRODUCE': 97084,\n",
       " 'MEAT-PCKGD': 40228,\n",
       " 'MEAT': 32874,\n",
       " 'DELI': 23628,\n",
       " 'PASTRY': 13359,\n",
       " 'NUTRITION': 12665,\n",
       " 'KIOSK-GAS': 8416,\n",
       " 'SEAFOOD-PCKGD': 3903,\n",
       " 'SALAD BAR': 3595,\n",
       " 'COSMETICS': 2827,\n",
       " 'MISC SALES TRAN': 2331,\n",
       " 'FLORAL': 1683,\n",
       " 'SEAFOOD': 1593,\n",
       " 'MISC. TRANS.': 998,\n",
       " 'SPIRITS': 837,\n",
       " 'TRAVEL & LEISUR': 322,\n",
       " 'GARDEN CENTER': 284,\n",
       " 'CHEF SHOPPE': 259,\n",
       " 'RESTAURANT': 192,\n",
       " 'COUP/STR & MFG': 145,\n",
       " 'FROZEN GROCERY': 100,\n",
       " 'GM MERCH EXP': 20,\n",
       " 'DAIRY DELI': 20,\n",
       " 'AUTOMOTIVE': 19,\n",
       " 'CNTRL/STORE SUP': 11,\n",
       " 'DELI/SNACK BAR': 8,\n",
       " 'PHOTO': 7,\n",
       " 'POSTAL CENTER': 5,\n",
       " 'RX': 4,\n",
       " 'TOYS': 4,\n",
       " 'VIDEO RENTAL': 3,\n",
       " 'MEAT-WHSE': 3,\n",
       " 'PHARMACY SUPPLY': 2,\n",
       " 'HBC': 1,\n",
       " 'ELECT &PLUMBING': 1,\n",
       " 'HOUSEWARES': 1,\n",
       " 'CHARITABLE CONT': 1,\n",
       " 'GRO BAKERY': 0,\n",
       " 'VIDEO': 0,\n",
       " 'PORK': 0}"
      ]
     },
     "execution_count": 22,
     "metadata": {},
     "output_type": "execute_result"
    }
   ],
   "source": [
    "\n",
    "\n",
    "# more engaging categories for more purchasing customers : categories and total spend on each of them\n",
    "\n",
    "dict(sorted(md.items(), key=lambda x:x[1], reverse=True))"
   ]
  },
  {
   "cell_type": "code",
   "execution_count": 23,
   "id": "056fb566",
   "metadata": {},
   "outputs": [],
   "source": [
    "# less purchasing \n",
    "\n",
    "md = dict.fromkeys(transaction_train_df['DEPARTMENT'].unique(),0)\n",
    "\n",
    "for k in less_purchasing_customers:\n",
    "    if k in transaction_train_weekly_df.household_key.unique():\n",
    "        d = transaction_train_weekly_df[transaction_train_weekly_df.household_key==k]['DEPARTMENT'].value_counts().to_dict()\n",
    "        for k in md.keys():\n",
    "            if k in d.keys():\n",
    "                md[k]+=d[k]"
   ]
  },
  {
   "cell_type": "markdown",
   "id": "fa5466c9",
   "metadata": {},
   "source": [
    "<h3> less engaging categories for less purchasing category : categories and total spend on each of them </h3>"
   ]
  },
  {
   "cell_type": "code",
   "execution_count": 24,
   "id": "cd8ef0a0",
   "metadata": {},
   "outputs": [
    {
     "data": {
      "text/plain": [
       "{'DELI/SNACK BAR': 0,\n",
       " 'HBC': 0,\n",
       " 'ELECT &PLUMBING': 0,\n",
       " 'HOUSEWARES': 0,\n",
       " 'TOYS': 0,\n",
       " 'VIDEO': 1,\n",
       " 'PORK': 1,\n",
       " 'CHARITABLE CONT': 1,\n",
       " 'VIDEO RENTAL': 2,\n",
       " 'PHARMACY SUPPLY': 2,\n",
       " 'GRO BAKERY': 2,\n",
       " 'CNTRL/STORE SUP': 3,\n",
       " 'MEAT-WHSE': 3,\n",
       " 'RX': 6,\n",
       " 'PHOTO': 7,\n",
       " 'DAIRY DELI': 10,\n",
       " 'POSTAL CENTER': 13,\n",
       " 'GM MERCH EXP': 14,\n",
       " 'AUTOMOTIVE': 21,\n",
       " 'FROZEN GROCERY': 61,\n",
       " 'RESTAURANT': 78,\n",
       " 'COUP/STR & MFG': 100,\n",
       " 'CHEF SHOPPE': 189,\n",
       " 'GARDEN CENTER': 200,\n",
       " 'TRAVEL & LEISUR': 236,\n",
       " 'SPIRITS': 426,\n",
       " 'MISC. TRANS.': 539,\n",
       " 'SEAFOOD': 956,\n",
       " 'FLORAL': 1116,\n",
       " 'MISC SALES TRAN': 1439,\n",
       " 'COSMETICS': 1973,\n",
       " 'SALAD BAR': 2259,\n",
       " 'SEAFOOD-PCKGD': 2664,\n",
       " 'KIOSK-GAS': 5536,\n",
       " 'NUTRITION': 8202,\n",
       " 'PASTRY': 10435,\n",
       " 'DELI': 16321,\n",
       " 'MEAT': 22824,\n",
       " 'MEAT-PCKGD': 29425,\n",
       " 'PRODUCE': 65685,\n",
       " 'DRUG GM': 73912,\n",
       " 'GROCERY': 434503}"
      ]
     },
     "execution_count": 24,
     "metadata": {},
     "output_type": "execute_result"
    }
   ],
   "source": [
    "dict(sorted(md.items(), key=lambda x:x[1], reverse=False))"
   ]
  },
  {
   "cell_type": "markdown",
   "id": "d1adbc24",
   "metadata": {},
   "source": [
    "<h3> count of less and more purchasing customer </h3>"
   ]
  },
  {
   "cell_type": "code",
   "execution_count": 25,
   "id": "a3718c3e",
   "metadata": {},
   "outputs": [
    {
     "data": {
      "text/plain": [
       "(819, 721)"
      ]
     },
     "execution_count": 25,
     "metadata": {},
     "output_type": "execute_result"
    }
   ],
   "source": [
    "\n",
    "len(more_purchasing_customers), len(less_purchasing_customers)"
   ]
  },
  {
   "cell_type": "code",
   "execution_count": null,
   "id": "56c9e276",
   "metadata": {},
   "outputs": [],
   "source": []
  },
  {
   "cell_type": "markdown",
   "id": "2e47e553",
   "metadata": {},
   "source": [
    "# Impact of each demographic factor on sales"
   ]
  },
  {
   "cell_type": "code",
   "execution_count": 27,
   "id": "13088d52",
   "metadata": {},
   "outputs": [],
   "source": [
    "df_household_income = transaction_train_weekly_df.groupby('household_key')['SAME_ITEM_SALES_VALUE'].sum().reset_index()\n",
    "demo_household_income_combined = demographic_df.merge(df_household_income, how='left', on='household_key')"
   ]
  },
  {
   "cell_type": "markdown",
   "id": "a18babb3",
   "metadata": {},
   "source": [
    "<h3> Compare the total sales standard deviation with the std deviation wrt each categorical variable.  </h3>"
   ]
  },
  {
   "cell_type": "code",
   "execution_count": 43,
   "id": "3ad6a6f3",
   "metadata": {},
   "outputs": [
    {
     "data": {
      "text/plain": [
       "(10619521.388645517, -1187520.454884272)"
      ]
     },
     "execution_count": 43,
     "metadata": {},
     "output_type": "execute_result"
    }
   ],
   "source": [
    "x = demo_household_income_combined['SAME_ITEM_SALES_VALUE'].std()\n",
    "\n",
    "x, demo_household_income_combined.groupby('MARITAL_STATUS_CODE')['SAME_ITEM_SALES_VALUE'].std().reset_index()['SAME_ITEM_SALES_VALUE'].mean() - x\n"
   ]
  },
  {
   "cell_type": "code",
   "execution_count": 29,
   "id": "91e0bf51",
   "metadata": {},
   "outputs": [
    {
     "data": {
      "text/plain": [
       "-1404730.4829783011"
      ]
     },
     "execution_count": 29,
     "metadata": {},
     "output_type": "execute_result"
    }
   ],
   "source": [
    "demo_household_income_combined.groupby('AGE_DESC')['SAME_ITEM_SALES_VALUE'].std().reset_index()['SAME_ITEM_SALES_VALUE'].mean() - x\n"
   ]
  },
  {
   "cell_type": "code",
   "execution_count": 31,
   "id": "757864cc",
   "metadata": {},
   "outputs": [
    {
     "data": {
      "text/plain": [
       "-1586234.1748804972"
      ]
     },
     "execution_count": 31,
     "metadata": {},
     "output_type": "execute_result"
    }
   ],
   "source": [
    "\n",
    "# loos like low age people are purhcasing more than old age \n",
    "\n",
    "demo_household_income_combined.groupby('INCOME_DESC')['SAME_ITEM_SALES_VALUE'].std().reset_index()['SAME_ITEM_SALES_VALUE'].mean() - x\n"
   ]
  },
  {
   "cell_type": "code",
   "execution_count": 32,
   "id": "ba607f64",
   "metadata": {},
   "outputs": [
    {
     "data": {
      "text/plain": [
       "-127255.52549159713"
      ]
     },
     "execution_count": 32,
     "metadata": {},
     "output_type": "execute_result"
    }
   ],
   "source": [
    "demo_household_income_combined.groupby('HOMEOWNER_DESC')['SAME_ITEM_SALES_VALUE'].std().reset_index()['SAME_ITEM_SALES_VALUE'].mean() - x\n"
   ]
  },
  {
   "cell_type": "code",
   "execution_count": 33,
   "id": "adf19e95",
   "metadata": {},
   "outputs": [
    {
     "data": {
      "text/plain": [
       "-1311143.4683340583"
      ]
     },
     "execution_count": 33,
     "metadata": {},
     "output_type": "execute_result"
    }
   ],
   "source": [
    "demo_household_income_combined.groupby('HH_COMP_DESC')['SAME_ITEM_SALES_VALUE'].std().reset_index()['SAME_ITEM_SALES_VALUE'].mean() -x\n"
   ]
  },
  {
   "cell_type": "code",
   "execution_count": 34,
   "id": "f0e1102a",
   "metadata": {},
   "outputs": [
    {
     "data": {
      "text/plain": [
       "230886.79764666408"
      ]
     },
     "execution_count": 34,
     "metadata": {},
     "output_type": "execute_result"
    }
   ],
   "source": [
    "demo_household_income_combined.groupby('KID_CATEGORY_DESC')['SAME_ITEM_SALES_VALUE'].std().reset_index()['SAME_ITEM_SALES_VALUE'].mean() - x\n"
   ]
  },
  {
   "cell_type": "code",
   "execution_count": null,
   "id": "b55ab728",
   "metadata": {},
   "outputs": [],
   "source": []
  },
  {
   "cell_type": "markdown",
   "id": "554b3853",
   "metadata": {},
   "source": [
    "# graphical approach"
   ]
  },
  {
   "cell_type": "code",
   "execution_count": 37,
   "id": "7becd9e9",
   "metadata": {},
   "outputs": [
    {
     "data": {
      "text/plain": [
       "<AxesSubplot:>"
      ]
     },
     "execution_count": 37,
     "metadata": {},
     "output_type": "execute_result"
    },
    {
     "data": {
      "image/png": "[encoded data removed]",
      "text/plain": [
       "<Figure size 432x288 with 1 Axes>"
      ]
     },
     "metadata": {
      "needs_background": "light"
     },
     "output_type": "display_data"
    }
   ],
   "source": [
    "\n",
    "\n",
    "demo_household_income_combined.groupby('MARITAL_STATUS_CODE')['SAME_ITEM_SALES_VALUE'].std().reset_index()['SAME_ITEM_SALES_VALUE'].plot(kind='bar')\n"
   ]
  },
  {
   "cell_type": "code",
   "execution_count": 38,
   "id": "87e1f4d4",
   "metadata": {},
   "outputs": [
    {
     "data": {
      "text/plain": [
       "<AxesSubplot:>"
      ]
     },
     "execution_count": 38,
     "metadata": {},
     "output_type": "execute_result"
    },
    {
     "data": {
      "image/png": "[encoded data removed]",
      "text/plain": [
       "<Figure size 432x288 with 1 Axes>"
      ]
     },
     "metadata": {
      "needs_background": "light"
     },
     "output_type": "display_data"
    }
   ],
   "source": [
    "\n",
    "demo_household_income_combined.groupby('AGE_DESC')['SAME_ITEM_SALES_VALUE'].std().reset_index()['SAME_ITEM_SALES_VALUE'].plot(kind='bar')\n",
    "\n"
   ]
  },
  {
   "cell_type": "code",
   "execution_count": 39,
   "id": "54eccbc2",
   "metadata": {},
   "outputs": [
    {
     "data": {
      "text/plain": [
       "<AxesSubplot:>"
      ]
     },
     "execution_count": 39,
     "metadata": {},
     "output_type": "execute_result"
    },
    {
     "data": {
      "image/png": "[encoded data removed]",
      "text/plain": [
       "<Figure size 432x288 with 1 Axes>"
      ]
     },
     "metadata": {
      "needs_background": "light"
     },
     "output_type": "display_data"
    }
   ],
   "source": [
    "demo_household_income_combined.groupby('INCOME_DESC')['SAME_ITEM_SALES_VALUE'].std().reset_index()['SAME_ITEM_SALES_VALUE'].plot(kind='bar')\n"
   ]
  },
  {
   "cell_type": "code",
   "execution_count": 40,
   "id": "93ecdb71",
   "metadata": {},
   "outputs": [
    {
     "data": {
      "text/plain": [
       "<AxesSubplot:>"
      ]
     },
     "execution_count": 40,
     "metadata": {},
     "output_type": "execute_result"
    },
    {
     "data": {
      "image/png": "[encoded data removed]",
      "text/plain": [
       "<Figure size 432x288 with 1 Axes>"
      ]
     },
     "metadata": {
      "needs_background": "light"
     },
     "output_type": "display_data"
    }
   ],
   "source": [
    "\n",
    "demo_household_income_combined.groupby('HOMEOWNER_DESC')['SAME_ITEM_SALES_VALUE'].std().reset_index()['SAME_ITEM_SALES_VALUE'].plot(kind='bar')\n",
    "\n"
   ]
  },
  {
   "cell_type": "code",
   "execution_count": 41,
   "id": "e33876e2",
   "metadata": {},
   "outputs": [
    {
     "data": {
      "text/plain": [
       "<AxesSubplot:>"
      ]
     },
     "execution_count": 41,
     "metadata": {},
     "output_type": "execute_result"
    },
    {
     "data": {
      "image/png": "[encoded data removed]",
      "text/plain": [
       "<Figure size 432x288 with 1 Axes>"
      ]
     },
     "metadata": {
      "needs_background": "light"
     },
     "output_type": "display_data"
    }
   ],
   "source": [
    "demo_household_income_combined.groupby('HH_COMP_DESC')['SAME_ITEM_SALES_VALUE'].std().reset_index()['SAME_ITEM_SALES_VALUE'].plot(kind='bar')\n",
    "\n"
   ]
  },
  {
   "cell_type": "code",
   "execution_count": 42,
   "id": "079e7312",
   "metadata": {},
   "outputs": [
    {
     "data": {
      "text/plain": [
       "<AxesSubplot:>"
      ]
     },
     "execution_count": 42,
     "metadata": {},
     "output_type": "execute_result"
    },
    {
     "data": {
      "image/png": "[encoded data removed]",
      "text/plain": [
       "<Figure size 432x288 with 1 Axes>"
      ]
     },
     "metadata": {
      "needs_background": "light"
     },
     "output_type": "display_data"
    }
   ],
   "source": [
    "demo_household_income_combined.groupby('KID_CATEGORY_DESC')['SAME_ITEM_SALES_VALUE'].std().reset_index()['SAME_ITEM_SALES_VALUE'].plot(kind='bar')\n"
   ]
  },
  {
   "cell_type": "code",
   "execution_count": null,
   "id": "1af6894f",
   "metadata": {},
   "outputs": [],
   "source": []
  },
  {
   "cell_type": "code",
   "execution_count": null,
   "id": "0c2fabe2",
   "metadata": {},
   "outputs": [],
   "source": []
  },
  {
   "cell_type": "markdown",
   "id": "8f42afc4",
   "metadata": {},
   "source": [
    "<h3> Basically we are looking for a variable which is showing more variance wrt to sales.</h3>\n",
    "\n",
    "Reference : https://medium.com/@outside2SDs/an-overview-of-correlation-measures-between-categorical-and-continuous-variables-4c7f85610365\n",
    "\n",
    "# Conclusion\n",
    "\n",
    "Income(+), KID_CATEGORY_DESC (+), AGE_DESC(-) has large variances across them wrt to each category as compared to the total variance in the \n",
    "sales_value so these are the variables impacting most. \n"
   ]
  },
  {
   "cell_type": "code",
   "execution_count": null,
   "id": "6023ee46",
   "metadata": {},
   "outputs": [],
   "source": []
  },
  {
   "cell_type": "code",
   "execution_count": 19,
   "id": "3b64f123",
   "metadata": {},
   "outputs": [
    {
     "data": {
      "text/plain": [
       "(Index(['household_key', 'QUARTER', 'SAME_ITEM_SALES_VALUE', 'DEPARTMENT'], dtype='object'),\n",
       " (1770039, 4),\n",
       " Index(['household_key', 'QUARTER', 'SAME_ITEM_SALES_VALUE', 'DEPARTMENT'], dtype='object'),\n",
       " (708649, 4))"
      ]
     },
     "execution_count": 19,
     "metadata": {},
     "output_type": "execute_result"
    }
   ],
   "source": [
    "transaction_train_quarterly_df.columns , transaction_train_quarterly_df.shape, transaction_test_quarterly_df.columns , transaction_test_quarterly_df.shape"
   ]
  },
  {
   "cell_type": "code",
   "execution_count": null,
   "id": "6c0e9feb",
   "metadata": {},
   "outputs": [],
   "source": []
  },
  {
   "cell_type": "code",
   "execution_count": null,
   "id": "3b48d58e",
   "metadata": {},
   "outputs": [],
   "source": []
  },
  {
   "cell_type": "code",
   "execution_count": 20,
   "id": "6114b9f0",
   "metadata": {},
   "outputs": [
    {
     "name": "stderr",
     "output_type": "stream",
     "text": [
      "C:\\Users\\ramp\\AppData\\Local\\Temp\\ipykernel_26048\\2997409963.py:1: SettingWithCopyWarning: \n",
      "A value is trying to be set on a copy of a slice from a DataFrame.\n",
      "Try using .loc[row_indexer,col_indexer] = value instead\n",
      "\n",
      "See the caveats in the documentation: https://pandas.pydata.org/pandas-docs/stable/user_guide/indexing.html#returning-a-view-versus-a-copy\n",
      "  transaction_train_quarterly_df['is_nutrition']=list(map(lambda x:1 if x=='NUTRITION' else 0, transaction_train_quarterly_df['DEPARTMENT']))\n",
      "C:\\Users\\ramp\\AppData\\Local\\Temp\\ipykernel_26048\\2997409963.py:2: SettingWithCopyWarning: \n",
      "A value is trying to be set on a copy of a slice from a DataFrame\n",
      "\n",
      "See the caveats in the documentation: https://pandas.pydata.org/pandas-docs/stable/user_guide/indexing.html#returning-a-view-versus-a-copy\n",
      "  transaction_train_quarterly_df.drop('DEPARTMENT', axis=1, inplace=True)\n",
      "C:\\Users\\ramp\\AppData\\Local\\Temp\\ipykernel_26048\\2997409963.py:7: SettingWithCopyWarning: \n",
      "A value is trying to be set on a copy of a slice from a DataFrame.\n",
      "Try using .loc[row_indexer,col_indexer] = value instead\n",
      "\n",
      "See the caveats in the documentation: https://pandas.pydata.org/pandas-docs/stable/user_guide/indexing.html#returning-a-view-versus-a-copy\n",
      "  transaction_test_quarterly_df['is_nutrition']=list(map(lambda x:1 if x=='NUTRITION' else 0, transaction_test_quarterly_df['DEPARTMENT']))\n",
      "C:\\Users\\ramp\\AppData\\Local\\Temp\\ipykernel_26048\\2997409963.py:8: SettingWithCopyWarning: \n",
      "A value is trying to be set on a copy of a slice from a DataFrame\n",
      "\n",
      "See the caveats in the documentation: https://pandas.pydata.org/pandas-docs/stable/user_guide/indexing.html#returning-a-view-versus-a-copy\n",
      "  transaction_test_quarterly_df.drop('DEPARTMENT', axis=1, inplace=True)\n"
     ]
    }
   ],
   "source": [
    "transaction_train_quarterly_df['is_nutrition']=list(map(lambda x:1 if x=='NUTRITION' else 0, transaction_train_quarterly_df['DEPARTMENT']))\n",
    "transaction_train_quarterly_df.drop('DEPARTMENT', axis=1, inplace=True)\n",
    "\n",
    "#####################################\n",
    "\n",
    "\n",
    "transaction_test_quarterly_df['is_nutrition']=list(map(lambda x:1 if x=='NUTRITION' else 0, transaction_test_quarterly_df['DEPARTMENT']))\n",
    "transaction_test_quarterly_df.drop('DEPARTMENT', axis=1, inplace=True)"
   ]
  },
  {
   "cell_type": "code",
   "execution_count": 21,
   "id": "8dcc1e4b",
   "metadata": {},
   "outputs": [
    {
     "data": {
      "text/html": [
       "<div>\n",
       "<style scoped>\n",
       "    .dataframe tbody tr th:only-of-type {\n",
       "        vertical-align: middle;\n",
       "    }\n",
       "\n",
       "    .dataframe tbody tr th {\n",
       "        vertical-align: top;\n",
       "    }\n",
       "\n",
       "    .dataframe thead th {\n",
       "        text-align: right;\n",
       "    }\n",
       "</style>\n",
       "<table border=\"1\" class=\"dataframe\">\n",
       "  <thead>\n",
       "    <tr style=\"text-align: right;\">\n",
       "      <th></th>\n",
       "      <th>household_key</th>\n",
       "      <th>QUARTER</th>\n",
       "      <th>SAME_ITEM_SALES_VALUE</th>\n",
       "      <th>is_nutrition</th>\n",
       "    </tr>\n",
       "  </thead>\n",
       "  <tbody>\n",
       "    <tr>\n",
       "      <th>0</th>\n",
       "      <td>2375</td>\n",
       "      <td>1</td>\n",
       "      <td>1.99</td>\n",
       "      <td>0</td>\n",
       "    </tr>\n",
       "    <tr>\n",
       "      <th>1</th>\n",
       "      <td>2375</td>\n",
       "      <td>1</td>\n",
       "      <td>0.82</td>\n",
       "      <td>0</td>\n",
       "    </tr>\n",
       "    <tr>\n",
       "      <th>2</th>\n",
       "      <td>2375</td>\n",
       "      <td>1</td>\n",
       "      <td>1.29</td>\n",
       "      <td>0</td>\n",
       "    </tr>\n",
       "    <tr>\n",
       "      <th>3</th>\n",
       "      <td>2375</td>\n",
       "      <td>1</td>\n",
       "      <td>1.21</td>\n",
       "      <td>0</td>\n",
       "    </tr>\n",
       "    <tr>\n",
       "      <th>4</th>\n",
       "      <td>2375</td>\n",
       "      <td>1</td>\n",
       "      <td>1.89</td>\n",
       "      <td>0</td>\n",
       "    </tr>\n",
       "  </tbody>\n",
       "</table>\n",
       "</div>"
      ],
      "text/plain": [
       "   household_key  QUARTER  SAME_ITEM_SALES_VALUE  is_nutrition\n",
       "0           2375        1                   1.99             0\n",
       "1           2375        1                   0.82             0\n",
       "2           2375        1                   1.29             0\n",
       "3           2375        1                   1.21             0\n",
       "4           2375        1                   1.89             0"
      ]
     },
     "execution_count": 21,
     "metadata": {},
     "output_type": "execute_result"
    }
   ],
   "source": [
    "transaction_train_quarterly_df.head()"
   ]
  },
  {
   "cell_type": "code",
   "execution_count": 22,
   "id": "303e1967",
   "metadata": {},
   "outputs": [
    {
     "data": {
      "text/html": [
       "<div>\n",
       "<style scoped>\n",
       "    .dataframe tbody tr th:only-of-type {\n",
       "        vertical-align: middle;\n",
       "    }\n",
       "\n",
       "    .dataframe tbody tr th {\n",
       "        vertical-align: top;\n",
       "    }\n",
       "\n",
       "    .dataframe thead th {\n",
       "        text-align: right;\n",
       "    }\n",
       "</style>\n",
       "<table border=\"1\" class=\"dataframe\">\n",
       "  <thead>\n",
       "    <tr style=\"text-align: right;\">\n",
       "      <th></th>\n",
       "      <th>household_key</th>\n",
       "      <th>QUARTER</th>\n",
       "      <th>SAME_ITEM_SALES_VALUE</th>\n",
       "      <th>is_nutrition</th>\n",
       "    </tr>\n",
       "  </thead>\n",
       "  <tbody>\n",
       "    <tr>\n",
       "      <th>0</th>\n",
       "      <td>1060</td>\n",
       "      <td>1</td>\n",
       "      <td>1.79</td>\n",
       "      <td>0</td>\n",
       "    </tr>\n",
       "    <tr>\n",
       "      <th>1</th>\n",
       "      <td>1060</td>\n",
       "      <td>1</td>\n",
       "      <td>3.75</td>\n",
       "      <td>0</td>\n",
       "    </tr>\n",
       "  </tbody>\n",
       "</table>\n",
       "</div>"
      ],
      "text/plain": [
       "   household_key  QUARTER  SAME_ITEM_SALES_VALUE  is_nutrition\n",
       "0           1060        1                   1.79             0\n",
       "1           1060        1                   3.75             0"
      ]
     },
     "execution_count": 22,
     "metadata": {},
     "output_type": "execute_result"
    }
   ],
   "source": [
    "transaction_test_quarterly_df.head(2)"
   ]
  },
  {
   "cell_type": "code",
   "execution_count": null,
   "id": "73ed35d9",
   "metadata": {},
   "outputs": [],
   "source": []
  },
  {
   "cell_type": "code",
   "execution_count": null,
   "id": "bc962c04",
   "metadata": {},
   "outputs": [],
   "source": []
  },
  {
   "cell_type": "code",
   "execution_count": 23,
   "id": "deb37616",
   "metadata": {},
   "outputs": [],
   "source": [
    "transaction_train_quarterly_df = transaction_train_quarterly_df.groupby(['household_key','QUARTER', 'is_nutrition']).sum('SAME_ITEM_SALES_VALUE').reset_index().rename(columns={'SAME_ITEM_SALES_VALUE':'QUARTERLY_TOTAL_SALES'})\n",
    "\n",
    "################################\n",
    "\n",
    "transaction_test_quarterly_df = transaction_test_quarterly_df.groupby(['household_key','QUARTER', 'is_nutrition']).sum('SAME_ITEM_SALES_VALUE').reset_index().rename(columns={'SAME_ITEM_SALES_VALUE':'QUARTERLY_TOTAL_SALES'})"
   ]
  },
  {
   "cell_type": "code",
   "execution_count": 357,
   "id": "fa380700",
   "metadata": {},
   "outputs": [],
   "source": [
    "ftrain = transaction_train_quarterly_df.copy()\n",
    "ftrain = ftrain.groupby(['household_key','QUARTER']).sum(['is_nutrition','QUARTERLY_TOTAL_SALES']).reset_index()\n",
    "\n",
    "#####################################\n",
    "\n",
    "\n",
    "ftest = transaction_test_quarterly_df.copy()\n",
    "ftest = ftest.groupby(['household_key','QUARTER']).sum(['is_nutrition','QUARTERLY_TOTAL_SALES']).reset_index()"
   ]
  },
  {
   "cell_type": "code",
   "execution_count": 33,
   "id": "e4757eca",
   "metadata": {},
   "outputs": [],
   "source": [
    "######################################## turning point ########################"
   ]
  },
  {
   "cell_type": "code",
   "execution_count": null,
   "id": "62aa4f3b",
   "metadata": {},
   "outputs": [],
   "source": []
  },
  {
   "cell_type": "code",
   "execution_count": 35,
   "id": "948184d6",
   "metadata": {},
   "outputs": [],
   "source": [
    "def create_missing_quarter_entry(df):\n",
    "    for hkey in df.household_key.unique():\n",
    "        all_quarters = set(range(1,9))\n",
    "        present_quarters=set(df[df['household_key']==hkey].QUARTER.unique())\n",
    "        missing_quarters = all_quarters - present_quarters\n",
    "        for quarter in missing_quarters:\n",
    "            df.loc[len(df.index)] = [hkey,quarter,0,0]    \n",
    "    return df"
   ]
  },
  {
   "cell_type": "code",
   "execution_count": null,
   "id": "f4a35674",
   "metadata": {},
   "outputs": [],
   "source": []
  },
  {
   "cell_type": "code",
   "execution_count": 358,
   "id": "e07e4cf1",
   "metadata": {},
   "outputs": [],
   "source": [
    "ftrain = create_missing_quarter_entry(ftrain)\n",
    "ftrain.sort_values(['household_key','QUARTER'], inplace=True)\n",
    "ftrain.rename(columns={'QUARTER':'ROW_ID'}, inplace=True)\n",
    "ftrain_binary = ftrain.pivot('household_key', 'ROW_ID', 'is_nutrition').add_prefix('Q').reset_index()\n",
    "ftrain_sales = ftrain.pivot('household_key', 'ROW_ID', 'QUARTERLY_TOTAL_SALES').add_prefix('QS').reset_index()\n",
    "\n",
    "Y = ftrain_binary['Q8']\n",
    "Q8_train_sales = ftrain_sales['QS8']\n",
    "\n",
    "ftrain_binary.drop('Q8', axis=1, inplace=True)\n",
    "ftrain_sales.drop('QS8', axis=1, inplace=True)\n",
    "\n",
    "\n",
    "##################################################################\n",
    "\n",
    "ftest= create_missing_quarter_entry(ftest)\n",
    "ftest.sort_values(['household_key','QUARTER'], inplace=True)\n",
    "ftest.rename(columns={'QUARTER':'ROW_ID'}, inplace=True)\n",
    "ftest_binary = ftest.pivot('household_key', 'ROW_ID', 'is_nutrition').add_prefix('Q').reset_index()\n",
    "ftest_sales = ftest.pivot('household_key', 'ROW_ID', 'QUARTERLY_TOTAL_SALES').add_prefix('QS').reset_index()\n",
    "\n",
    "# Ytest = ftest_binary['Q8']\n",
    "Q8_test_sales = ftest_sales['QS8']\n",
    "\n",
    "ftest_binary.drop('Q8', axis=1, inplace=True)\n",
    "ftest_sales.drop('QS8', axis=1, inplace=True)"
   ]
  },
  {
   "cell_type": "code",
   "execution_count": null,
   "id": "a74cb421",
   "metadata": {},
   "outputs": [],
   "source": []
  },
  {
   "cell_type": "code",
   "execution_count": null,
   "id": "b50c2a40",
   "metadata": {},
   "outputs": [],
   "source": []
  },
  {
   "cell_type": "code",
   "execution_count": 359,
   "id": "77170a3b",
   "metadata": {},
   "outputs": [],
   "source": [
    "sales_cols=['QS1','QS2','QS3','QS4','QS5','QS6','QS7']\n",
    "mins = ftrain_sales[sales_cols].min(axis=1)\n",
    "maxs = ftrain_sales[sales_cols].max(axis=1)\n",
    "for i in range(1,8):\n",
    "    ftrain_sales['QS' + str(i)] = (ftrain_sales['QS' + str(i)] - mins )/(maxs - mins )\n",
    "\n",
    "ftrain_sales['Total_sales'] = ftrain_sales[['QS1','QS2','QS3', 'QS4','QS5','QS6', 'QS7']].sum(axis=1)\n",
    "\n",
    "\n",
    "#########################################################################\n",
    "\n",
    "sales_cols=['QS1','QS2','QS3','QS4','QS5','QS6','QS7']\n",
    "mins = ftest_sales[sales_cols].min(axis=1)\n",
    "maxs = ftest_sales[sales_cols].max(axis=1)\n",
    "for i in range(1,8):\n",
    "    ftest_sales['QS' + str(i)] = (ftest_sales['QS' + str(i)] - mins )/(maxs - mins )\n",
    "\n",
    "ftest_sales['Total_sales'] = ftest_sales[['QS1','QS2','QS3', 'QS4','QS5','QS6', 'QS7']].sum(axis=1)"
   ]
  },
  {
   "cell_type": "code",
   "execution_count": null,
   "id": "c5cd3b3c",
   "metadata": {},
   "outputs": [],
   "source": []
  },
  {
   "cell_type": "code",
   "execution_count": 62,
   "id": "f6c9a203",
   "metadata": {},
   "outputs": [],
   "source": [
    "# from sklearn.preprocessing import StandardScaler\n",
    "# scaler = StandardScaler()  \n",
    "# f_sales[['QS1','QS2','QS3', 'QS4','QS5','QS6', 'QS7']] = scaler.fit_transform(f_sales[['QS1','QS2','QS3', 'QS4','QS5','QS6', 'QS7']])\n",
    "# f_sales['Total_sales'] = f_sales[['QS1','QS2','QS3', 'QS4','QS5','QS6', 'QS7']].sum(axis=1)"
   ]
  },
  {
   "cell_type": "code",
   "execution_count": 360,
   "id": "5b51c293",
   "metadata": {},
   "outputs": [],
   "source": [
    "# calcaulte simple moving average, cumulative moving average, exponential moving average\n",
    "\n",
    "ftrain_sales[['SMA2QS3','SMA2QS4','SMA2QS5','SMA2QS6','SMA2QS7']] = ftrain_sales[['QS1', 'QS2', 'QS3', 'QS4', 'QS5', 'QS6', 'QS7']].T.rolling(2).mean().T.add_prefix('SMA2').drop(['SMA2QS1','SMA2QS2'], axis=1)\n",
    "ftrain_sales[['SMA3QS3','SMA3QS4','SMA3QS5','SMA3QS6','SMA3QS7']] = ftrain_sales[['QS1', 'QS2', 'QS3', 'QS4', 'QS5', 'QS6', 'QS7']].T.rolling(3).mean().T.add_prefix('SMA3').drop(['SMA3QS1','SMA3QS2'], axis=1)\n",
    "ftrain_sales[['SMA4QS5', 'SMA4QS5','SMA4QS6','SMA4QS7']] = ftrain_sales[['QS1', 'QS2', 'QS3', 'QS4', 'QS5', 'QS6', 'QS7']].T.rolling(4).mean().T.add_prefix('SMA4').drop(['SMA4QS1','SMA4QS2','SMA4QS3'], axis=1)\n",
    "ftrain_sales[['CMAQS1','CMAQS2','CMAQS3','CMAQS4','CMAQS5','CMAQS6','CMAQS7']] = ftrain_sales[['QS1', 'QS2', 'QS3', 'QS4', 'QS5', 'QS6', 'QS7']].T.expanding().mean().T.add_prefix('CMA')\n",
    "ftrain_sales[['EMA2QS1','EMA2QS2','ECMA2QS3','EMA2QS4','EMA2QS5','EMA2QS6','EMA2QS7']] = ftrain_sales[['QS1', 'QS2', 'QS3', 'QS4', 'QS5', 'QS6', 'QS7']].T.ewm(span=2).mean().T.add_prefix('EMA2')\n",
    "ftrain_sales[['EMA3QS1','EMA3QS2','EMA3QS3','EMA3QS4','EMA3QS5','EMA3QS6','EMA3QS7']] = ftrain_sales[['QS1', 'QS2', 'QS3', 'QS4', 'QS5', 'QS6', 'QS7']].T.ewm(span=3).mean().T.add_prefix('EMA3')\n",
    "\n",
    "########################################################\n",
    "\n",
    "# calcaulte simple moving average, cumulative moving average, exponential moving average\n",
    "ftest_sales[['SMA2QS3','SMA2QS4','SMA2QS5','SMA2QS6','SMA2QS7']] = ftest_sales[['QS1', 'QS2', 'QS3', 'QS4', 'QS5', 'QS6', 'QS7']].T.rolling(2).mean().T.add_prefix('SMA2').drop(['SMA2QS1','SMA2QS2'], axis=1)\n",
    "ftest_sales[['SMA3QS3','SMA3QS4','SMA3QS5','SMA3QS6','SMA3QS7']] = ftest_sales[['QS1', 'QS2', 'QS3', 'QS4', 'QS5', 'QS6', 'QS7']].T.rolling(3).mean().T.add_prefix('SMA3').drop(['SMA3QS1','SMA3QS2'], axis=1)\n",
    "ftest_sales[['SMA4QS5', 'SMA4QS5','SMA4QS6','SMA4QS7']] = ftest_sales[['QS1', 'QS2', 'QS3', 'QS4', 'QS5', 'QS6', 'QS7']].T.rolling(4).mean().T.add_prefix('SMA4').drop(['SMA4QS1','SMA4QS2','SMA4QS3'], axis=1)\n",
    "ftest_sales[['CMAQS1','CMAQS2','CMAQS3','CMAQS4','CMAQS5','CMAQS6','CMAQS7']] = ftest_sales[['QS1', 'QS2', 'QS3', 'QS4', 'QS5', 'QS6', 'QS7']].T.expanding().mean().T.add_prefix('CMA')\n",
    "ftest_sales[['EMA2QS1','EMA2QS2','ECMA2QS3','EMA2QS4','EMA2QS5','EMA2QS6','EMA2QS7']] = ftest_sales[['QS1', 'QS2', 'QS3', 'QS4', 'QS5', 'QS6', 'QS7']].T.ewm(span=2).mean().T.add_prefix('EMA2')\n",
    "ftest_sales[['EMA3QS1','EMA3QS2','EMA3QS3','EMA3QS4','EMA3QS5','EMA3QS6','EMA3QS7']] = ftest_sales[['QS1', 'QS2', 'QS3', 'QS4', 'QS5', 'QS6', 'QS7']].T.ewm(span=3).mean().T.add_prefix('EMA3')"
   ]
  },
  {
   "cell_type": "code",
   "execution_count": 361,
   "id": "46ba89fe",
   "metadata": {},
   "outputs": [],
   "source": [
    "tran_train_final_df=ftrain_binary.merge(ftrain_sales, on='household_key')\n",
    "tran_test_final_df=ftest_binary.merge(ftest_sales, on='household_key')"
   ]
  },
  {
   "cell_type": "code",
   "execution_count": null,
   "id": "9af63f56",
   "metadata": {},
   "outputs": [],
   "source": []
  },
  {
   "cell_type": "markdown",
   "id": "5f4251a1",
   "metadata": {},
   "source": [
    "# Demographic data preparation"
   ]
  },
  {
   "cell_type": "code",
   "execution_count": null,
   "id": "0bab9504",
   "metadata": {},
   "outputs": [],
   "source": []
  },
  {
   "cell_type": "markdown",
   "id": "8f879043",
   "metadata": {},
   "source": [
    "<h3> One hot encoded features for demographic data</h3>"
   ]
  },
  {
   "cell_type": "code",
   "execution_count": 165,
   "id": "f9912061",
   "metadata": {},
   "outputs": [],
   "source": [
    "# from sklearn.preprocessing import OneHotEncoder\n",
    "# from scipy.sparse import hstack\n",
    "\n",
    "# #### creating one hot encoding representation #### \n",
    "\n",
    "# oe_AGE_DESC = OneHotEncoder()\n",
    "# train_AGE_DESC = oe_AGE_DESC.fit_transform(demographic_df['AGE_DESC'].values.reshape(-1,1))\n",
    "\n",
    "# oe_MARITAL_STATUS_CODE = OneHotEncoder()\n",
    "# train_MARITAL_STATUS_CODE = oe_MARITAL_STATUS_CODE.fit_transform(demographic_df['MARITAL_STATUS_CODE'].values.reshape(-1,1))\n",
    "\n",
    "# oe_INCOME_DESC = OneHotEncoder()\n",
    "# train_INCOME_DESC = oe_INCOME_DESC.fit_transform(demographic_df['INCOME_DESC'].values.reshape(-1,1))\n",
    "\n",
    "# oe_HOMEOWNER_DESC = OneHotEncoder()\n",
    "# train_HOMEOWNER_DESC = oe_HOMEOWNER_DESC.fit_transform(demographic_df['HOMEOWNER_DESC'].values.reshape(-1,1))\n",
    "\n",
    "# oe_HH_COMP_DESC = OneHotEncoder()\n",
    "# train_HH_COMP_DESC = oe_HH_COMP_DESC.fit_transform(demographic_df['HH_COMP_DESC'].values.reshape(-1,1))\n",
    "\n",
    "# oe_HOUSEHOLD_SIZE_DESC = OneHotEncoder()\n",
    "# train_HOUSEHOLD_SIZE_DESC = oe_HOUSEHOLD_SIZE_DESC.fit_transform(demographic_df['HOUSEHOLD_SIZE_DESC'].values.reshape(-1,1))\n",
    "\n",
    "# oe_KID_CATEGORY_DESC = OneHotEncoder()\n",
    "# train_KID_CATEGORY_DESC = oe_KID_CATEGORY_DESC.fit_transform(demographic_df['KID_CATEGORY_DESC'].values.reshape(-1,1))\n",
    "\n",
    "# demo_data = hstack([train_AGE_DESC, train_MARITAL_STATUS_CODE, train_INCOME_DESC, train_HOMEOWNER_DESC,  train_HH_COMP_DESC, train_HOUSEHOLD_SIZE_DESC, train_KID_CATEGORY_DESC ])\n",
    "\n",
    "# #####################################################################\n",
    "\n",
    "# test_AGE_DESC = oe_AGE_DESC.transform(demographic_df['AGE_DESC'].values.reshape(-1,1))\n",
    "# test_MARITAL_STATUS_CODE = oe_MARITAL_STATUS_CODE.transform(demographic_df['MARITAL_STATUS_CODE'].values.reshape(-1,1))\n",
    "# test_INCOME_DESC = oe_INCOME_DESC.transform(demographic_df['INCOME_DESC'].values.reshape(-1,1))\n",
    "# test_HOMEOWNER_DESC = oe_HOMEOWNER_DESC.transform(demographic_df['HOMEOWNER_DESC'].values.reshape(-1,1))\n",
    "# test_HH_COMP_DESC = oe_HH_COMP_DESC.transform(demographic_df['HH_COMP_DESC'].values.reshape(-1,1))\n",
    "# test_HOUSEHOLD_SIZE_DESC = oe_HOUSEHOLD_SIZE_DESC.transform(demographic_df['HOUSEHOLD_SIZE_DESC'].values.reshape(-1,1))\n",
    "# test_KID_CATEGORY_DESC = oe_KID_CATEGORY_DESC.transform(demographic_df['KID_CATEGORY_DESC'].values.reshape(-1,1))\n",
    "\n",
    "# demotest_data = hstack([test_AGE_DESC, test_MARITAL_STATUS_CODE, test_INCOME_DESC, test_HOMEOWNER_DESC,  test_HH_COMP_DESC, test_HOUSEHOLD_SIZE_DESC, test_KID_CATEGORY_DESC ])\n"
   ]
  },
  {
   "cell_type": "code",
   "execution_count": 362,
   "id": "32e7609a",
   "metadata": {},
   "outputs": [],
   "source": [
    "from sklearn.preprocessing import OneHotEncoder\n",
    "from scipy.sparse import hstack\n",
    "\n",
    "#### creating one hot encoding representation #### \n",
    "\n",
    "oe_AGE_DESC = OneHotEncoder()\n",
    "AGE_DESC_ohe = oe_AGE_DESC.fit_transform(demographic_df['AGE_DESC'].values.reshape(-1,1))\n",
    "\n",
    "oe_MARITAL_STATUS_CODE = OneHotEncoder()\n",
    "MARITAL_STATUS_CODE_ohe = oe_MARITAL_STATUS_CODE.fit_transform(demographic_df['MARITAL_STATUS_CODE'].values.reshape(-1,1))\n",
    "\n",
    "oe_INCOME_DESC = OneHotEncoder()\n",
    "INCOME_DESC_ohe = oe_INCOME_DESC.fit_transform(demographic_df['INCOME_DESC'].values.reshape(-1,1))\n",
    "\n",
    "oe_HOMEOWNER_DESC = OneHotEncoder()\n",
    "HOMEOWNER_DESC_ohe = oe_HOMEOWNER_DESC.fit_transform(demographic_df['HOMEOWNER_DESC'].values.reshape(-1,1))\n",
    "\n",
    "oe_HH_COMP_DESC = OneHotEncoder()\n",
    "HH_COMP_DESC_ohe = oe_HH_COMP_DESC.fit_transform(demographic_df['HH_COMP_DESC'].values.reshape(-1,1))\n",
    "\n",
    "oe_HOUSEHOLD_SIZE_DESC = OneHotEncoder()\n",
    "HOUSEHOLD_SIZE_DESC_ohe = oe_HOUSEHOLD_SIZE_DESC.fit_transform(demographic_df['HOUSEHOLD_SIZE_DESC'].values.reshape(-1,1))\n",
    "\n",
    "oe_KID_CATEGORY_DESC = OneHotEncoder()\n",
    "KID_CATEGORY_DESC_ohe = oe_KID_CATEGORY_DESC.fit_transform(demographic_df['KID_CATEGORY_DESC'].values.reshape(-1,1))\n",
    "\n",
    "demo_data_ohe = hstack([AGE_DESC_ohe, MARITAL_STATUS_CODE_ohe, INCOME_DESC_ohe, HOMEOWNER_DESC_ohe,  HH_COMP_DESC_ohe, HOUSEHOLD_SIZE_DESC_ohe, KID_CATEGORY_DESC_ohe ])\n"
   ]
  },
  {
   "cell_type": "code",
   "execution_count": null,
   "id": "e326fa38",
   "metadata": {},
   "outputs": [],
   "source": []
  },
  {
   "cell_type": "code",
   "execution_count": 363,
   "id": "944da73f",
   "metadata": {},
   "outputs": [],
   "source": [
    "# creating features from the demo data\n",
    "\n",
    "age_feautures = list(map(lambda m: m.replace('x0', 'age')   , oe_AGE_DESC.get_feature_names_out()))\n",
    "income_features = list(map(lambda m: m.replace('x0', 'income')   , oe_INCOME_DESC.get_feature_names_out()))\n",
    "marital_features = list(map(lambda m: m.replace('x0', 'marital')   , oe_MARITAL_STATUS_CODE.get_feature_names_out()))\n",
    "homeowner_features = list(map(lambda m: m.replace('x0', 'homeowner')   , oe_HOMEOWNER_DESC.get_feature_names_out()))\n",
    "hh_comp_features = list(map(lambda m: m.replace('x0', 'comp')   , oe_HH_COMP_DESC.get_feature_names_out()))\n",
    "housesize_features = list(map(lambda m: m.replace('x0', 'housesize')   , oe_HOUSEHOLD_SIZE_DESC.get_feature_names_out()))\n",
    "kids_features = list(map(lambda m: m.replace('x0', 'kids')   , oe_KID_CATEGORY_DESC.get_feature_names_out()))\n",
    "\n",
    "demo_features = []\n",
    "demo_features.extend(age_feautures)\n",
    "demo_features.extend(income_features)\n",
    "demo_features.extend(marital_features)\n",
    "demo_features.extend(homeowner_features)\n",
    "demo_features.extend(hh_comp_features)\n",
    "demo_features.extend(housesize_features)\n",
    "demo_features.extend(kids_features)\n"
   ]
  },
  {
   "cell_type": "code",
   "execution_count": 364,
   "id": "54819e3b",
   "metadata": {},
   "outputs": [],
   "source": [
    "demo_final_df = pd.DataFrame(demo_data_ohe.toarray(), columns=demo_features)\n",
    "demo_final_df['household_key'] = demographic_df['household_key']"
   ]
  },
  {
   "cell_type": "markdown",
   "id": "a781ecfe",
   "metadata": {},
   "source": [
    "<h4> merge demographic one hot encoded columns with transactional data for train and test datasets</h4>"
   ]
  },
  {
   "cell_type": "code",
   "execution_count": 365,
   "id": "2f18285a",
   "metadata": {},
   "outputs": [],
   "source": [
    "demo_tran_train_df = tran_train_final_df.merge(demo_final_df, on ='household_key', how='left').fillna(0)\n",
    "demo_tran_test_df = tran_test_final_df.merge(demo_final_df, on ='household_key', how='left').fillna(0)"
   ]
  },
  {
   "cell_type": "code",
   "execution_count": 271,
   "id": "f46d4d89",
   "metadata": {},
   "outputs": [
    {
     "data": {
      "text/plain": [
       "((1750, 50), (2200, 42), (1750, 91))"
      ]
     },
     "execution_count": 271,
     "metadata": {},
     "output_type": "execute_result"
    }
   ],
   "source": [
    "tran_train_final_df.shape, demo_final_df.shape, demo_tran_train_df.shape"
   ]
  },
  {
   "cell_type": "code",
   "execution_count": null,
   "id": "553ded1a",
   "metadata": {},
   "outputs": [],
   "source": []
  },
  {
   "cell_type": "code",
   "execution_count": 257,
   "id": "2e37744a",
   "metadata": {},
   "outputs": [],
   "source": [
    "# oe_CAMPAIGN_DESCRIPTION = OneHotEncoder()\n",
    "# CAMPAIGN_DESCRIPTION_ohe = oe_CAMPAIGN_DESCRIPTION.fit_transform(campaign_df['DESCRIPTION'].values.reshape(-1,1))\n",
    "\n",
    "# oe_CAMPAIGN = OneHotEncoder()\n",
    "# CAMPAIGN_ohe = oe_CAMPAIGN.fit_transform(campaign_df['CAMPAIGN'].values.reshape(-1,1))\n",
    "\n",
    "# campaign_description_feautures = list(map(lambda m: m.replace('x0', 'cd')   , oe_CAMPAIGN_DESCRIPTION.get_feature_names_out()))\n",
    "# campaign_type_features = list(map(lambda m: m.replace('x0', 'campaign')   , oe_CAMPAIGN.get_feature_names_out()))\n",
    "\n",
    "# campaign_features = []\n",
    "# campaign_features.extend(campaign_type_features)\n",
    "# campaign_features.extend(campaign_description_feautures)\n"
   ]
  },
  {
   "cell_type": "code",
   "execution_count": 222,
   "id": "0a31b6fe",
   "metadata": {},
   "outputs": [],
   "source": [
    "# campaign_data = hstack([CAMPAIGN_ohe, CAMPAIGN_DESCRIPTION_ohe]) \n",
    "# campaign_data_df = pd.DataFrame(campaign_data.toarray(), columns=campaign_features)\n",
    "# campaign_data_df['household_key'] = campaign_df['household_key']"
   ]
  },
  {
   "cell_type": "code",
   "execution_count": 267,
   "id": "b71ed995",
   "metadata": {},
   "outputs": [
    {
     "data": {
      "text/plain": [
       "(7208, 3)"
      ]
     },
     "execution_count": 267,
     "metadata": {},
     "output_type": "execute_result"
    }
   ],
   "source": [
    "campaign_df.shape"
   ]
  },
  {
   "cell_type": "markdown",
   "id": "14e2f647",
   "metadata": {},
   "source": [
    "<h4> merge demographic one hot encoded columns with transactional data for train and test datasets</h4>"
   ]
  },
  {
   "cell_type": "code",
   "execution_count": 223,
   "id": "b7a01edb",
   "metadata": {},
   "outputs": [],
   "source": [
    "# campaign_demo_tran_train_df = demo_tran_train_df.merge(campaign_data_df, on='household_key',how='left').fillna(0)\n",
    "# campaign_demo_tran_test_df = demo_tran_test_df.merge(campaign_data_df, on='household_key',how='left').fillna(0)"
   ]
  },
  {
   "cell_type": "code",
   "execution_count": null,
   "id": "abfe88de",
   "metadata": {},
   "outputs": [],
   "source": []
  },
  {
   "cell_type": "markdown",
   "id": "69e174a3",
   "metadata": {},
   "source": [
    "<h4> merge campaign demo and transactional data <h4>"
   ]
  },
  {
   "cell_type": "code",
   "execution_count": 171,
   "id": "bf918a4b",
   "metadata": {},
   "outputs": [],
   "source": [
    "# campaign_count_train_df = campaign_df.groupby('household_key')['CAMPAIGN'].count().reset_index().rename(columns={'CAMPAIGN':'n_campaign'})\n",
    "# demo_tran_campaign_train_combined_df = demo_tran_campaign_train_combined_df1.merge(campaign_count_train_df, on='household_key', how='left')\n",
    "# demo_tran_campaign_train_combined_df['n_campaign'].fillna(0, inplace=True)\n",
    "\n",
    "# #############################\n",
    "\n",
    "# # campaign_count_test_df = campaign_df.groupby('household_key')['CAMPAIGN'].count().reset_index().rename(columns={'CAMPAIGN':'n_campaign'})\n",
    "# # demo_tran_campaign_test_combined_df = demo_tran_campaign_test_combined_df1.merge(campaign_count_test_df, on='household_key', how='left')\n",
    "# # demo_tran_campaign_test_combined_df['n_campaign'].fillna(0, inplace=True)"
   ]
  },
  {
   "cell_type": "code",
   "execution_count": 556,
   "id": "10045b13",
   "metadata": {},
   "outputs": [],
   "source": [
    "campaign_count_df = campaign_df.groupby('household_key')['CAMPAIGN'].count().reset_index().rename(columns={'CAMPAIGN':'n_campaign'})\n",
    "\n",
    "campaign_demo_tran_train_df = demo_tran_train_df.merge(campaign_count_df, on='household_key', how='left').fillna(0)\n",
    "campaign_demo_tran_test_df = demo_tran_test_df.merge(campaign_count_df, on='household_key', how='left').fillna(0)\n"
   ]
  },
  {
   "cell_type": "code",
   "execution_count": null,
   "id": "611eafec",
   "metadata": {},
   "outputs": [],
   "source": []
  },
  {
   "cell_type": "markdown",
   "id": "b92595ad",
   "metadata": {},
   "source": [
    "# Final dataframe created and features "
   ]
  },
  {
   "cell_type": "code",
   "execution_count": 141,
   "id": "a3b59f42",
   "metadata": {},
   "outputs": [],
   "source": [
    "import pickle "
   ]
  },
  {
   "cell_type": "code",
   "execution_count": 175,
   "id": "2da35fd7",
   "metadata": {},
   "outputs": [],
   "source": [
    "train_file = open('train_dataset.pkl', 'wb')\n",
    "pickle.dump(demo_tran_campaign_train_combined_df, train_file)\n",
    "\n",
    "test_file = open('test_dataset.pkl', 'wb')\n",
    "pickle.dump(demo_tran_campaign_test_combined_df, test_file)"
   ]
  },
  {
   "cell_type": "code",
   "execution_count": null,
   "id": "f213aeba",
   "metadata": {},
   "outputs": [],
   "source": []
  },
  {
   "cell_type": "markdown",
   "id": "db8c238e",
   "metadata": {},
   "source": [
    "# Apply models"
   ]
  },
  {
   "cell_type": "code",
   "execution_count": null,
   "id": "686d4541",
   "metadata": {},
   "outputs": [],
   "source": []
  },
  {
   "cell_type": "code",
   "execution_count": null,
   "id": "11b413c9",
   "metadata": {},
   "outputs": [],
   "source": []
  },
  {
   "cell_type": "code",
   "execution_count": 379,
   "id": "0be734e2",
   "metadata": {},
   "outputs": [],
   "source": [
    "from sklearn.linear_model import LogisticRegression\n",
    "from sklearn.linear_model import SGDClassifier\n",
    "from sklearn.neighbors import KNeighborsClassifier\n",
    "from sklearn.naive_bayes import MultinomialNB\n",
    "from sklearn.ensemble import RandomForestClassifier\n",
    "import xgboost as xg\n",
    "from sklearn.model_selection import train_test_split"
   ]
  },
  {
   "cell_type": "code",
   "execution_count": 373,
   "id": "f6f469e7",
   "metadata": {},
   "outputs": [],
   "source": []
  },
  {
   "cell_type": "code",
   "execution_count": 400,
   "id": "2dc597d7",
   "metadata": {},
   "outputs": [],
   "source": [
    "X = campaign_demo_tran_train_df\n",
    "testx = campaign_demo_tran_test_df\n",
    "# testy = Ytest\n",
    "\n",
    "trainx, cvx, trainy, cvy = train_test_split(X, Y, test_size=0.3, stratify=Y)"
   ]
  },
  {
   "cell_type": "code",
   "execution_count": 401,
   "id": "aaf468c3",
   "metadata": {},
   "outputs": [],
   "source": [
    "\n",
    "train_hkeys = trainx['household_key']\n",
    "cv_hkeys = cvx['household_key']\n",
    "test_hkeys = testx['household_key']\n",
    "\n",
    "trainx.drop('household_key', axis=1, inplace=True)\n",
    "cvx.drop('household_key', axis=1, inplace=True)\n",
    "testx.drop('household_key', axis=1, inplace=True)"
   ]
  },
  {
   "cell_type": "code",
   "execution_count": 402,
   "id": "4a66c55f",
   "metadata": {},
   "outputs": [
    {
     "data": {
      "text/plain": [
       "((1225, 91), (1225,), (525, 91), (525,), (750, 91), (750,))"
      ]
     },
     "execution_count": 402,
     "metadata": {},
     "output_type": "execute_result"
    }
   ],
   "source": [
    "trainx.shape, trainy.shape, cvx.shape, cvy.shape, testx.shape, testy.shape"
   ]
  },
  {
   "cell_type": "markdown",
   "id": "2eb7f607",
   "metadata": {},
   "source": [
    "# checking for class balance"
   ]
  },
  {
   "cell_type": "code",
   "execution_count": 405,
   "id": "7e2093d3",
   "metadata": {},
   "outputs": [
    {
     "data": {
      "text/plain": [
       "0    1238\n",
       "1     512\n",
       "Name: Q8, dtype: int64"
      ]
     },
     "execution_count": 405,
     "metadata": {},
     "output_type": "execute_result"
    }
   ],
   "source": [
    "Y.value_counts()"
   ]
  },
  {
   "cell_type": "markdown",
   "id": "4f26f1dd",
   "metadata": {},
   "source": [
    "<h4> As shown above, data is highly imbalanced </h4>"
   ]
  },
  {
   "cell_type": "code",
   "execution_count": null,
   "id": "82afae0b",
   "metadata": {},
   "outputs": [],
   "source": []
  },
  {
   "cell_type": "code",
   "execution_count": 388,
   "id": "7c531175",
   "metadata": {},
   "outputs": [],
   "source": [
    "from sklearn.metrics import precision_recall_curve, auc\n",
    "from sklearn.model_selection import GridSearchCV, RandomizedSearchCV\n",
    "from sklearn.metrics import log_loss, make_scorer"
   ]
  },
  {
   "cell_type": "code",
   "execution_count": 425,
   "id": "9d7f73ca",
   "metadata": {},
   "outputs": [],
   "source": []
  },
  {
   "cell_type": "code",
   "execution_count": 430,
   "id": "b661d83a",
   "metadata": {},
   "outputs": [
    {
     "data": {
      "text/plain": [
       "GridSearchCV(cv=5, estimator=SGDClassifier(class_weight='balanced', loss='log'),\n",
       "             param_grid={'alpha': [1e-05, 0.0001, 0.001, 0.01, 0.1, 1, 10, 100,\n",
       "                                   1000, 10000],\n",
       "                         'penalty': ['l1', 'l2']},\n",
       "             scoring='neg_log_loss')"
      ]
     },
     "execution_count": 430,
     "metadata": {},
     "output_type": "execute_result"
    }
   ],
   "source": [
    "# Hyper parameter tunning Grid search\n",
    "\n",
    "lr = SGDClassifier(loss='log', class_weight='balanced')\n",
    "params= {'penalty':['l1','l2'], 'alpha':[10**x for x in range(-5,5)]} \n",
    "# LogLoss = make_scorer(log_loss, greater_is_better=False, needs_proba=True)\n",
    "gd = GridSearchCV(lr, params, cv=5, scoring='average_precision')\n",
    "gd.fit(X, Y)"
   ]
  },
  {
   "cell_type": "code",
   "execution_count": 463,
   "id": "af271f5b",
   "metadata": {},
   "outputs": [],
   "source": [
    "alpha = gd.best_params_['alpha']\n",
    "penalty = gd.best_params_['penalty']"
   ]
  },
  {
   "cell_type": "code",
   "execution_count": 469,
   "id": "4dfa739f",
   "metadata": {},
   "outputs": [],
   "source": [
    "def lr_model_trainer_scorer():\n",
    "    lr = SGDClassifier(loss='log', class_weight='balanced', alpha=alpha, penalty=penalty)\n",
    "    lr.fit(X, Y)\n",
    "    Y_pred_prob = lr.predict_proba(X)\n",
    "    \n",
    "    precision, recall, _ = precision_recall_curve(Y, Y_pred_prob[:, 1])\n",
    "    desired_auc_score = auc(recall, precision)\n",
    "    return desired_auc_score"
   ]
  },
  {
   "cell_type": "markdown",
   "id": "367710d7",
   "metadata": {},
   "source": [
    "<h4> Taking an an average of 20 runs for finalizing the scores </h4>"
   ]
  },
  {
   "cell_type": "code",
   "execution_count": 475,
   "id": "aaa31962",
   "metadata": {},
   "outputs": [
    {
     "data": {
      "text/plain": [
       "0.7283058828855056"
      ]
     },
     "execution_count": 475,
     "metadata": {},
     "output_type": "execute_result"
    }
   ],
   "source": [
    "lr_scores=[]\n",
    "for i in range(20):\n",
    "    lr_scores.append(lr_model_trainer_scorer())\n",
    "np.mean(lr_scores)"
   ]
  },
  {
   "cell_type": "code",
   "execution_count": null,
   "id": "7b363c16",
   "metadata": {},
   "outputs": [],
   "source": []
  },
  {
   "cell_type": "markdown",
   "id": "9af4b364",
   "metadata": {},
   "source": [
    "# SVM"
   ]
  },
  {
   "cell_type": "code",
   "execution_count": 528,
   "id": "4c4634a0",
   "metadata": {},
   "outputs": [
    {
     "data": {
      "text/plain": [
       "GridSearchCV(cv=5, estimator=SVC(class_weight='balanced', probability=True),\n",
       "             param_grid={'C': [0.001, 0.01, 0.1, 1, 10, 100],\n",
       "                         'kernel': ('linear', 'rbf')},\n",
       "             scoring='average_precision')"
      ]
     },
     "execution_count": 528,
     "metadata": {},
     "output_type": "execute_result"
    }
   ],
   "source": [
    "from sklearn import svm\n",
    "\n",
    "parameters = {'kernel':('linear', 'rbf'), 'C':[10**x for x in range(-3,3)]}\n",
    "svc = svm.SVC(gamma=\"scale\", probability=True, class_weight='balanced')\n",
    "LogLoss = make_scorer(log_loss, greater_is_better=False, needs_proba=True)\n",
    "gd = GridSearchCV(svc, parameters, cv=5, scoring='average_precision')\n",
    "gd.fit(X, Y)"
   ]
  },
  {
   "cell_type": "code",
   "execution_count": 529,
   "id": "353064d0",
   "metadata": {},
   "outputs": [
    {
     "data": {
      "text/plain": [
       "({'C': 0.01, 'kernel': 'linear'}, 0.7232590416804539)"
      ]
     },
     "execution_count": 529,
     "metadata": {},
     "output_type": "execute_result"
    }
   ],
   "source": [
    "gd.best_params_, gd.best_score_"
   ]
  },
  {
   "cell_type": "code",
   "execution_count": 487,
   "id": "23cf4380",
   "metadata": {},
   "outputs": [],
   "source": [
    "def svm_model_trainer_scorer():\n",
    "    svc = svm.SVC(gamma=\"scale\", probability=True, class_weight='balanced', C=0.01, kernel='linear')\n",
    "    svc.fit(X, Y)\n",
    "    Y_pred_prob = svc.predict_proba(X)\n",
    "    precision, recall, _ = precision_recall_curve(Y, Y_pred_prob[:, 1])\n",
    "    desired_auc_score = auc(recall, precision)\n",
    "    return desired_auc_score"
   ]
  },
  {
   "cell_type": "markdown",
   "id": "1b25f775",
   "metadata": {},
   "source": [
    "<h4> Consering the stochastic nature of model, retraining the model for 20 times <h4>"
   ]
  },
  {
   "cell_type": "code",
   "execution_count": 488,
   "id": "1d6f89da",
   "metadata": {},
   "outputs": [
    {
     "data": {
      "text/plain": [
       "0.7306477629506805"
      ]
     },
     "execution_count": 488,
     "metadata": {},
     "output_type": "execute_result"
    }
   ],
   "source": [
    "svm_scores=[]\n",
    "for i in range(20):\n",
    "    svm_scores.append(svm_model_trainer_scorer())\n",
    "np.mean(svm_scores)"
   ]
  },
  {
   "cell_type": "code",
   "execution_count": null,
   "id": "8813f554",
   "metadata": {},
   "outputs": [],
   "source": []
  },
  {
   "cell_type": "markdown",
   "id": "fd31075a",
   "metadata": {},
   "source": [
    "# Random Forest "
   ]
  },
  {
   "cell_type": "code",
   "execution_count": 523,
   "id": "93f2c524",
   "metadata": {},
   "outputs": [
    {
     "data": {
      "text/plain": [
       "RandomizedSearchCV(cv=5,\n",
       "                   estimator=RandomForestClassifier(class_weight='balanced',\n",
       "                                                    n_jobs=-1),\n",
       "                   param_distributions={'max_depth': [5, 7, 9, 11],\n",
       "                                        'min_samples_leaf': [2, 3, 4, 5],\n",
       "                                        'min_samples_split': [2, 3, 4, 5],\n",
       "                                        'n_estimators': [100, 200, 300, 400,\n",
       "                                                         500]},\n",
       "                   scoring='average_precision')"
      ]
     },
     "execution_count": 523,
     "metadata": {},
     "output_type": "execute_result"
    }
   ],
   "source": [
    "params = {'max_depth':[5,7, 9, 11],'n_estimators':[100,200,300,400,500], 'min_samples_leaf':[2, 3, 4, 5], 'min_samples_split':[2,3, 4, 5]}\n",
    "rf = RandomForestClassifier(class_weight='balanced', n_jobs=-1)\n",
    "rscv = RandomizedSearchCV(rf, params, scoring='average_precision', cv=5)\n",
    "rscv.fit(X,Y)"
   ]
  },
  {
   "cell_type": "code",
   "execution_count": 524,
   "id": "c4b59e2a",
   "metadata": {},
   "outputs": [
    {
     "data": {
      "text/plain": [
       "{'n_estimators': 400,\n",
       " 'min_samples_split': 3,\n",
       " 'min_samples_leaf': 3,\n",
       " 'max_depth': 5}"
      ]
     },
     "execution_count": 524,
     "metadata": {},
     "output_type": "execute_result"
    }
   ],
   "source": [
    "rscv.best_params_"
   ]
  },
  {
   "cell_type": "code",
   "execution_count": 525,
   "id": "c18db677",
   "metadata": {},
   "outputs": [],
   "source": [
    "def rf_model_trainer_scorer():\n",
    "    rf = RandomForestClassifier(class_weight='balanced', n_jobs=-1, n_estimators=400, min_samples_split = 3, min_samples_leaf =5, max_depth=5)\n",
    "    rf.fit(X,Y)\n",
    "    Y_pred_prob = rf.predict_proba(X)\n",
    "    precision, recall, _ = precision_recall_curve(Y, Y_pred_prob[:, 1])\n",
    "    desired_auc_score = auc(recall, precision)\n",
    "    return desired_auc_score"
   ]
  },
  {
   "cell_type": "code",
   "execution_count": null,
   "id": "808d9cb4",
   "metadata": {},
   "outputs": [],
   "source": []
  },
  {
   "cell_type": "markdown",
   "id": "85bf4cfb",
   "metadata": {},
   "source": [
    "<h4> Consering the stochastic nature of model, retraining the model for 20 times <h4>"
   ]
  },
  {
   "cell_type": "code",
   "execution_count": 527,
   "id": "4e7f5840",
   "metadata": {},
   "outputs": [
    {
     "data": {
      "text/plain": [
       "0.8179995484871171"
      ]
     },
     "execution_count": 527,
     "metadata": {},
     "output_type": "execute_result"
    }
   ],
   "source": [
    "rf_scores=[]\n",
    "for i in range(20):\n",
    "    rf_scores.append(rf_model_trainer_scorer())\n",
    "np.mean(rf_scores)"
   ]
  },
  {
   "cell_type": "code",
   "execution_count": null,
   "id": "b6e51cb9",
   "metadata": {},
   "outputs": [],
   "source": []
  },
  {
   "cell_type": "markdown",
   "id": "9f833daf",
   "metadata": {},
   "source": [
    "# XGBOOST "
   ]
  },
  {
   "cell_type": "code",
   "execution_count": 499,
   "id": "851ec397",
   "metadata": {},
   "outputs": [],
   "source": [
    "from xgboost import XGBClassifier\n",
    "from sklearn.utils import class_weight"
   ]
  },
  {
   "cell_type": "code",
   "execution_count": 506,
   "id": "16273c36",
   "metadata": {},
   "outputs": [
    {
     "data": {
      "text/plain": [
       "XGBClassifier(base_score=0.5, booster='gbtree', callbacks=None,\n",
       "              colsample_bylevel=1, colsample_bynode=1, colsample_bytree=1,\n",
       "              early_stopping_rounds=None, enable_categorical=False,\n",
       "              eval_metric=None, gamma=0, gpu_id=-1, grow_policy='depthwise',\n",
       "              importance_type=None, interaction_constraints='',\n",
       "              learning_rate=0.300000012, max_bin=256, max_cat_to_onehot=4,\n",
       "              max_delta_step=0, max_depth=6, max_leaves=0, min_child_weight=1,\n",
       "              missing=nan, monotone_constraints='()', n_estimators=100,\n",
       "              n_jobs=0, num_parallel_tree=1, predictor='auto', random_state=0,\n",
       "              reg_alpha=0, reg_lambda=1, ...)"
      ]
     },
     "execution_count": 506,
     "metadata": {},
     "output_type": "execute_result"
    }
   ],
   "source": [
    "classes_weights = class_weight.compute_sample_weight(\n",
    "    class_weight='balanced',\n",
    "    y=Y\n",
    ")\n",
    "\n",
    "xgbc = XGBClassifier(objective='binary:logistic')\n",
    "xgbc.fit(X,Y, sample_weight=classes_weights)"
   ]
  },
  {
   "cell_type": "code",
   "execution_count": 599,
   "id": "d4cb23bb",
   "metadata": {},
   "outputs": [
    {
     "data": {
      "text/plain": [
       "RandomizedSearchCV(cv=5,\n",
       "                   estimator=XGBClassifier(base_score=None, booster=None,\n",
       "                                           callbacks=None,\n",
       "                                           colsample_bylevel=None,\n",
       "                                           colsample_bynode=None,\n",
       "                                           colsample_bytree=None,\n",
       "                                           early_stopping_rounds=None,\n",
       "                                           enable_categorical=False,\n",
       "                                           eval_metric=None, gamma=None,\n",
       "                                           gpu_id=None, grow_policy=None,\n",
       "                                           importance_type=None,\n",
       "                                           interaction_constraints=None,\n",
       "                                           learning_rate=None, max_bin=None,...\n",
       "                                           n_estimators=100, n_jobs=-1,\n",
       "                                           num_parallel_tree=None,\n",
       "                                           predictor=None, random_state=None,\n",
       "                                           reg_alpha=None, reg_lambda=None, ...),\n",
       "                   param_distributions={'colsample_bytree': [0.8, 0.9, 1],\n",
       "                                        'gamma': [1, 2, 3],\n",
       "                                        'learning_rate': [0.05, 0.1],\n",
       "                                        'max_depth': [3, 5, 7, 9],\n",
       "                                        'min_child_weight': [2, 4, 6, 8],\n",
       "                                        'n_estimators': [50, 100, 200, 300],\n",
       "                                        'reg_alpha': [0.5, 0.2, 1],\n",
       "                                        'reg_lambda': [2, 3, 5]},\n",
       "                   scoring='neg_log_loss')"
      ]
     },
     "execution_count": 599,
     "metadata": {},
     "output_type": "execute_result"
    }
   ],
   "source": [
    "params = { \n",
    "              'learning_rate': [0.05, 0.1], \n",
    "              'max_depth': [3,5,7,9],\n",
    "              'min_child_weight': [2,4,6,8],\n",
    "              'colsample_bytree': [0.8, 0.9, 1],\n",
    "              'n_estimators': [50, 100, 200, 300],\n",
    "              \"reg_alpha\"   : [0.5,0.2,1],\n",
    "              \"reg_lambda\"  : [2,3,5],\n",
    "              \"gamma\"       : [1,2,3]\n",
    "         }\n",
    "    \n",
    "xgbc = XGBClassifier(objective='binary:logistic', n_jobs=-1)\n",
    "rscv = RandomizedSearchCV(xgbc, params, scoring='neg_log_loss', cv=5)\n",
    "rscv.fit(X,Y)"
   ]
  },
  {
   "cell_type": "code",
   "execution_count": 600,
   "id": "62c9707e",
   "metadata": {},
   "outputs": [
    {
     "data": {
      "text/plain": [
       "(-0.44665302787295413,\n",
       " {'reg_lambda': 5,\n",
       "  'reg_alpha': 0.5,\n",
       "  'n_estimators': 100,\n",
       "  'min_child_weight': 4,\n",
       "  'max_depth': 7,\n",
       "  'learning_rate': 0.05,\n",
       "  'gamma': 3,\n",
       "  'colsample_bytree': 1})"
      ]
     },
     "execution_count": 600,
     "metadata": {},
     "output_type": "execute_result"
    }
   ],
   "source": [
    "rscv.best_score_, rscv.best_params_"
   ]
  },
  {
   "cell_type": "code",
   "execution_count": 601,
   "id": "91b17da9",
   "metadata": {},
   "outputs": [],
   "source": [
    "def xgbc_model_trainer_scorer():\n",
    "    xgbc = XGBClassifier(objective='binary:logistic', n_jobs=-1, reg_lambda= 5,   reg_alpha= 1,   n_estimators= 100,   min_child_weight= 4,   max_depth= 7,   learning_rate= 0.05,   gamma= 3,   colsample_bytree= 1)\n",
    "    xgbc.fit(X,Y)\n",
    "    Y_pred_prob = xgbc.predict_proba(X)\n",
    "    precision, recall, _ = precision_recall_curve(Y, Y_pred_prob[:, 1])\n",
    "    desired_auc_score = auc(recall, precision)\n",
    "    return desired_auc_score"
   ]
  },
  {
   "cell_type": "markdown",
   "id": "1bbd202d",
   "metadata": {},
   "source": [
    "<h4> since model is stochastic in nature so running the model for 20 times and producing the average result. </h4>"
   ]
  },
  {
   "cell_type": "code",
   "execution_count": 602,
   "id": "955b205e",
   "metadata": {},
   "outputs": [
    {
     "data": {
      "text/plain": [
       "0.8563939654855547"
      ]
     },
     "execution_count": 602,
     "metadata": {},
     "output_type": "execute_result"
    }
   ],
   "source": [
    "xgbc_scores=[]\n",
    "for i in range(20):\n",
    "    xgbc_scores.append(xgbc_model_trainer_scorer())\n",
    "np.mean(xgbc_scores)"
   ]
  },
  {
   "cell_type": "code",
   "execution_count": 603,
   "id": "c2e11ca3",
   "metadata": {},
   "outputs": [],
   "source": [
    "# confusion matrix"
   ]
  },
  {
   "cell_type": "code",
   "execution_count": 604,
   "id": "6d8a1bf3",
   "metadata": {},
   "outputs": [],
   "source": [
    "xgbc = XGBClassifier(objective='binary:logistic', n_jobs=-1, reg_lambda= 5,   reg_alpha= 1,   n_estimators= 100,   min_child_weight= 4,   max_depth= 7,   learning_rate= 0.05,   gamma= 3,   colsample_bytree= 1)\n",
    "xgbc.fit(X,Y)\n",
    "Ytrain_pred = xgbc.predict(X)"
   ]
  },
  {
   "cell_type": "code",
   "execution_count": 605,
   "id": "6262f96f",
   "metadata": {},
   "outputs": [],
   "source": [
    "from sklearn.metrics import confusion_matrix"
   ]
  },
  {
   "cell_type": "code",
   "execution_count": 616,
   "id": "ed36cc0d",
   "metadata": {},
   "outputs": [
    {
     "data": {
      "text/plain": [
       "<AxesSubplot:>"
      ]
     },
     "execution_count": 616,
     "metadata": {},
     "output_type": "execute_result"
    },
    {
     "data": {
      "image/png": "[encoded data removed]",
      "text/plain": [
       "<Figure size 432x288 with 2 Axes>"
      ]
     },
     "metadata": {
      "needs_background": "light"
     },
     "output_type": "display_data"
    }
   ],
   "source": [
    "c = confusion_matrix(Y, Ytrain_pred)\n",
    "import seaborn as sns\n",
    "\n",
    "sns.heatmap(c, annot=True, fmt='d' )"
   ]
  },
  {
   "cell_type": "markdown",
   "id": "91bd1872",
   "metadata": {},
   "source": [
    "# Model comparison"
   ]
  },
  {
   "cell_type": "code",
   "execution_count": 2,
   "id": "ab7bc4b3",
   "metadata": {},
   "outputs": [
    {
     "name": "stdout",
     "output_type": "stream",
     "text": [
      "Collecting prettytable\n",
      "  Downloading prettytable-3.4.1-py3-none-any.whl (26 kB)\n",
      "Requirement already satisfied: wcwidth in c:\\users\\ramp\\anaconda3\\lib\\site-packages (from prettytable) (0.2.5)\n",
      "Installing collected packages: prettytable\n",
      "Successfully installed prettytable-3.4.1\n"
     ]
    }
   ],
   "source": [
    "!pip install prettytable"
   ]
  },
  {
   "cell_type": "code",
   "execution_count": 3,
   "id": "490c5c6b",
   "metadata": {},
   "outputs": [],
   "source": [
    "from prettytable import PrettyTable"
   ]
  },
  {
   "cell_type": "code",
   "execution_count": 4,
   "id": "5e471cb9",
   "metadata": {},
   "outputs": [],
   "source": [
    "p = PrettyTable()\n",
    "p.field_names = ['model', 'score']\n",
    "p.add_row(['logistic_regression',0.7283058828855056])\n",
    "p.add_row(['svm',0.7306477629506805])\n",
    "p.add_row(['Random Forest',0.8179995484871171])\n",
    "p.add_row(['xgboost',0.8563939654855547])"
   ]
  },
  {
   "cell_type": "markdown",
   "id": "0600b033",
   "metadata": {},
   "source": [
    "# Conclusion"
   ]
  },
  {
   "cell_type": "markdown",
   "id": "faa0ca53",
   "metadata": {},
   "source": [
    "- Income(+), KID_CATEGORY_DESC (+), AGE_DESC(-) has large variances across them wrt to each category as compared to the total variance in the sales_value so these are the variables impacting most.\n",
    "- We have considered quarterly analysis and used the time series based features.\n",
    "- we found that groceries are the most purchased categories. \n",
    "- Also our analysis does include the customers which are growing over the time. \n"
   ]
  },
  {
   "cell_type": "code",
   "execution_count": 12,
   "id": "5ee68ad7",
   "metadata": {},
   "outputs": [
    {
     "name": "stdout",
     "output_type": "stream",
     "text": [
      "+---------------------+--------------------+\n",
      "|        model        |       score        |\n",
      "+---------------------+--------------------+\n",
      "| logistic_regression | 0.7283058828855056 |\n",
      "|         svm         | 0.7306477629506805 |\n",
      "|    Random Forest    | 0.8179995484871171 |\n",
      "|       xgboost       | 0.8563939654855547 |\n",
      "+---------------------+--------------------+\n"
     ]
    }
   ],
   "source": [
    "# comparing the scores of various models\n",
    "print(p)"
   ]
  },
  {
   "cell_type": "code",
   "execution_count": null,
   "id": "818d3ce1",
   "metadata": {},
   "outputs": [],
   "source": []
  },
  {
   "cell_type": "code",
   "execution_count": null,
   "id": "055c786e",
   "metadata": {},
   "outputs": [],
   "source": []
  },
  {
   "cell_type": "code",
   "execution_count": 562,
   "id": "a6ea60ab",
   "metadata": {},
   "outputs": [],
   "source": [
    "# sample_submission_df = pd.read_csv('sample_submission.csv')\n",
    "target_testfile_df = pd.read_csv('test_file.csv')\n",
    "\n",
    "target_df = campaign_demo_tran_test_df.merge(target_testfile_df, on='household_key', how='inner' )\n",
    "target_df.drop(['bought_nutrition', 'household_key'], axis=1, inplace=True)\n",
    "Y_target_pred = xgbc.predict(target_df)\n",
    "result = target_testfile_df.copy()\n",
    "result['bought_nutrition']=Y_target_pred"
   ]
  },
  {
   "cell_type": "code",
   "execution_count": 591,
   "id": "82526881",
   "metadata": {},
   "outputs": [],
   "source": [
    "result.to_csv('ramavtar_submission.csv')"
   ]
  },
  {
   "cell_type": "code",
   "execution_count": null,
   "id": "447ef8d2",
   "metadata": {},
   "outputs": [],
   "source": []
  },
  {
   "cell_type": "code",
   "execution_count": null,
   "id": "a998f4be",
   "metadata": {},
   "outputs": [],
   "source": []
  },
  {
   "cell_type": "code",
   "execution_count": null,
   "id": "3d8fcf61",
   "metadata": {},
   "outputs": [],
   "source": []
  },
  {
   "cell_type": "code",
   "execution_count": null,
   "id": "00c9d10a",
   "metadata": {},
   "outputs": [],
   "source": []
  },
  {
   "cell_type": "markdown",
   "id": "e0b7e18d",
   "metadata": {},
   "source": [
    "# ----- IGNORE BELOW  --------"
   ]
  },
  {
   "cell_type": "code",
   "execution_count": null,
   "id": "930a4ca8",
   "metadata": {},
   "outputs": [],
   "source": []
  },
  {
   "cell_type": "code",
   "execution_count": 533,
   "id": "beffbac8",
   "metadata": {},
   "outputs": [],
   "source": [
    "coefficients, residuals, _, _, _ = np.polyfit(range(len(df2.index)),df2,1,full=True)"
   ]
  },
  {
   "cell_type": "code",
   "execution_count": null,
   "id": "1800dcee",
   "metadata": {},
   "outputs": [],
   "source": []
  },
  {
   "cell_type": "code",
   "execution_count": 498,
   "id": "1167e7d5",
   "metadata": {},
   "outputs": [
    {
     "data": {
      "text/plain": [
       "Text(0, 0.5, 'Temperature [°C]')"
      ]
     },
     "execution_count": 498,
     "metadata": {},
     "output_type": "execute_result"
    },
    {
     "data": {
      "image/png": "[encoded data removed]",
      "text/plain": [
       "<Figure size 864x432 with 1 Axes>"
      ]
     },
     "metadata": {},
     "output_type": "display_data"
    }
   ],
   "source": [
    "%matplotlib inline\n",
    "plt.style.use('seaborn')\n",
    "\n",
    "# line plot - the yearly average air temperature in Barcelona\n",
    "sv.plot(color='green', linewidth=3, figsize=(12,6))\n",
    "\n",
    "# modify ticks size\n",
    "plt.xticks(fontsize=14)\n",
    "plt.yticks(fontsize=14)\n",
    "plt.legend('')\n",
    "\n",
    "# title and labels\n",
    "plt.title('The yearly average air temperature in Barcelona', fontsize=20)\n",
    "plt.xlabel('Year', fontsize=16)\n",
    "plt.ylabel('Temperature [°C]', fontsize=16)"
   ]
  },
  {
   "cell_type": "code",
   "execution_count": 505,
   "id": "275e24db",
   "metadata": {},
   "outputs": [
    {
     "data": {
      "text/plain": [
       "0      69.780000\n",
       "1      55.700000\n",
       "2      45.656667\n",
       "3      73.116667\n",
       "4      97.123333\n",
       "         ...    \n",
       "59    117.923333\n",
       "60    102.686667\n",
       "61     94.443333\n",
       "62     85.103333\n",
       "63     80.313333\n",
       "Name: SALES_VALUE, Length: 64, dtype: float64"
      ]
     },
     "execution_count": 505,
     "metadata": {},
     "output_type": "execute_result"
    }
   ],
   "source": [
    "sv.rolling(3, min_periods=1).mean()\n"
   ]
  },
  {
   "cell_type": "code",
   "execution_count": null,
   "id": "ffc89898",
   "metadata": {},
   "outputs": [],
   "source": []
  },
  {
   "cell_type": "code",
   "execution_count": 450,
   "id": "5cab4b8a",
   "metadata": {},
   "outputs": [
    {
     "data": {
      "text/plain": [
       "False"
      ]
     },
     "execution_count": 450,
     "metadata": {},
     "output_type": "execute_result"
    }
   ],
   "source": [
    "l = df.groupby('WEEK_NO')['SALES_VALUE'].sum().reset_index()['SALES_VALUE'].values\n",
    "n = 5\n",
    "increasing_trend_checker(l, n)"
   ]
  },
  {
   "cell_type": "code",
   "execution_count": null,
   "id": "65a46d42",
   "metadata": {},
   "outputs": [],
   "source": []
  },
  {
   "cell_type": "code",
   "execution_count": 446,
   "id": "2185b8f5",
   "metadata": {},
   "outputs": [
    {
     "data": {
      "text/plain": [
       "1138.22"
      ]
     },
     "execution_count": 446,
     "metadata": {},
     "output_type": "execute_result"
    }
   ],
   "source": [
    "df.groupby('WEEK_NO')['SALES_VALUE'].sum().sort_index(ascending=False).head(12).sum()"
   ]
  },
  {
   "cell_type": "code",
   "execution_count": null,
   "id": "25b9814f",
   "metadata": {},
   "outputs": [],
   "source": []
  },
  {
   "cell_type": "code",
   "execution_count": 375,
   "id": "55605cb8",
   "metadata": {},
   "outputs": [
    {
     "data": {
      "text/plain": [
       "[<matplotlib.lines.Line2D at 0x1e193c26460>]"
      ]
     },
     "execution_count": 375,
     "metadata": {},
     "output_type": "execute_result"
    },
    {
     "data": {
      "image/png": "[encoded data removed]",
      "text/plain": [
       "<Figure size 432x288 with 1 Axes>"
      ]
     },
     "metadata": {
      "needs_background": "light"
     },
     "output_type": "display_data"
    }
   ],
   "source": [
    "plt.plot(df.SALES_VALUE.values)\n",
    "df.SALES_VALUE.values."
   ]
  },
  {
   "cell_type": "code",
   "execution_count": 372,
   "id": "a2f3601d",
   "metadata": {},
   "outputs": [
    {
     "name": "stdout",
     "output_type": "stream",
     "text": [
      "[ 78.66  41.1   26.9   63.43  53.45  26.76  23.55 110.34  87.44  73.32\n",
      "  54.23  87.32  38.88  57.5   74.52  42.98  29.55  23.54 123.86  42.8\n",
      "  80.45  72.82 113.07  27.67  73.77  48.5   75.88  14.31  61.23 117.46\n",
      "  68.8   97.57  90.71   7.99  88.2   89.18  82.84  49.33 137.88  69.78\n",
      "  68.81  79.27  26.72  32.2   96.71   9.88  39.9   38.69  26.32  96.59\n",
      "   8.47  99.68  87.98  23.67  55.55 133.84   5.98  54.71  81.23   8.14\n",
      "  57.88  68.34  41.57  90.21  79.07 118.56  91.33  81.29]\n",
      "[1. 1. 1. 1. 1. 1. 1. 1. 1. 1. 1. 1. 1. 1. 1. 1. 1. 1. 1. 1. 1. 1. 1. 1.\n",
      " 1. 1. 1. 1. 1. 1. 1. 1. 1. 1. 1. 1. 1. 1. 1. 1. 1. 1. 1. 1. 1. 1. 1. 1.\n",
      " 1. 1. 1. 1. 1. 1. 1. 1. 1. 1. 1. 1. 1. 1. 1. 1. 1. 1. 1. 1.]\n",
      "[1. 1. 1. 1. 1. 1. 1. 1. 1. 1. 1. 1. 1. 1. 1. 1. 1. 1. 1. 1. 1. 1. 1. 1.\n",
      " 1. 1. 1. 1. 1. 1. 1. 1. 1. 1. 1. 1. 1. 1. 1. 1. 1. 1. 1. 1. 1. 1. 1. 1.\n",
      " 1. 1. 1. 1. 1. 1. 1. 1. 1. 1. 1. 1. 1. 1. 1. 1. 1. 1. 1. 1.]\n",
      "[ 78.66  41.1   26.9   63.43  53.45  26.76  23.55 110.34  87.44  73.32\n",
      "  54.23  87.32  38.88  57.5   74.52  42.98  29.55  23.54 123.86  42.8\n",
      "  80.45  72.82 113.07  27.67  73.77  48.5   75.88  14.31  61.23 117.46\n",
      "  68.8   97.57  90.71   7.99  88.2   89.18  82.84  49.33 137.88  69.78\n",
      "  68.81  79.27  26.72  32.2   96.71   9.88  39.9   38.69  26.32  96.59\n",
      "   8.47  99.68  87.98  23.67  55.55 133.84   5.98  54.71  81.23   8.14\n",
      "  57.88  68.34  41.57  90.21  79.07 118.56  91.33  81.29]\n"
     ]
    }
   ],
   "source": [
    "from statsmodels.tsa.seasonal import seasonal_decompose\n",
    "\n",
    "result = seasonal_decompose(df['SALES_VALUE'].values, model='multiplicative', period=1)\n",
    "print(result.trend)\n",
    "print(result.seasonal)\n",
    "print(result.resid)\n",
    "print(result.observed)"
   ]
  },
  {
   "cell_type": "code",
   "execution_count": null,
   "id": "5125dc49",
   "metadata": {},
   "outputs": [],
   "source": []
  },
  {
   "cell_type": "code",
   "execution_count": null,
   "id": "cbe344b8",
   "metadata": {},
   "outputs": [],
   "source": []
  },
  {
   "cell_type": "code",
   "execution_count": null,
   "id": "55997a36",
   "metadata": {},
   "outputs": [],
   "source": []
  },
  {
   "cell_type": "code",
   "execution_count": null,
   "id": "08384912",
   "metadata": {},
   "outputs": [],
   "source": []
  },
  {
   "cell_type": "code",
   "execution_count": null,
   "id": "bc087c03",
   "metadata": {},
   "outputs": [],
   "source": []
  }
 ],
 "metadata": {
  "kernelspec": {
   "display_name": "Python 3 (ipykernel)",
   "language": "python",
   "name": "python3"
  },
  "language_info": {
   "codemirror_mode": {
    "name": "ipython",
    "version": 3
   },
   "file_extension": ".py",
   "mimetype": "text/x-python",
   "name": "python",
   "nbconvert_exporter": "python",
   "pygments_lexer": "ipython3",
   "version": "3.9.12"
  }
 },
 "nbformat": 4,
 "nbformat_minor": 5
}
